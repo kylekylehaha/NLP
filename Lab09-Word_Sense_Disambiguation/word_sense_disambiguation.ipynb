{
 "cells": [
  {
   "cell_type": "markdown",
   "id": "lyric-pricing",
   "metadata": {},
   "source": [
    "# Week 09: Word Sense Disambiguation\n",
    "\n",
    "This week, we introduced a hot topic in Natural Language Proccessing: *Word Sense Disambiguation (WSD)* .  \n",
    "Many words in natural languages have ambiguous meanings. For example, the word *[party](https://dictionary.cambridge.org/dictionary/english/party)* can refer to 1) a social gathering (派對), 2) a political organization (政黨), or 3) an entity in law (當事人；⋯⋯方).  \n",
    "As a human, we can distinguish different meanings easily, but can a machine do the same? This is what WSD aims for.  "
   ]
  },
  {
   "cell_type": "markdown",
   "id": "mysterious-injury",
   "metadata": {},
   "source": [
    "## Introduction\n",
    "\n",
    "### tl; dr\n",
    "You have to \n",
    "1. preprocess the data\n",
    "2. (stage 1) generate a small training dataset from the given collocation seed,\n",
    "3. (stage 1) train a weak model on that small dataset,\n",
    "4. (stage 2) use the weak model to generate more labeled data, and\n",
    "5. (stage 2) train your final model\n",
    "6. Evaluate your model on testing data (requirement: accuracy > 0.7)\n",
    "\n",
    "### Concept\n",
    "\n",
    "In [Lesk's assumption](https://en.wikipedia.org/wiki/Lesk_algorithm), each word has only one sense when it appears in the same collocation.  \n",
    "For example, if *party* shows up with the word *court* (法庭), most likely the sense of this *party* is the 3rd one: an entity in law (當事人；⋯⋯方).  \n",
    "However, we are not implementing Lesk's algorithm this week. Instead, we will combine his assumption with [Yarowsky's](https://en.wikipedia.org/wiki/Yarowsky_algorithm) *bootstrap technique* .  \n",
    "\n",
    "You are given some pre-defined collocations, or called *seeds*, of the word *party*, along with which sense each collocation belongs to.  \n",
    "With the given seeds, you can generate a small set of labeled data by rule. Then with this small set, we can train a small model with limited accuracy.  \n",
    "The current classifier might not perform well on the whole dataset, sure, but it's already enough to generate more reliable labeled data. With the newly labeled training data, we can now train another sense-classification model with more robustness, which aims for the real WSD task.  \n",
    "This process, about training on smaller dataset, generating more data, and then improving the model itself, is called *[bootstrapping](https://www.mastersindatascience.org/learning/introduction-to-machine-learning-algorithms/bootstrapping/)* .  \n"
   ]
  },
  {
   "cell_type": "markdown",
   "id": "resident-smart",
   "metadata": {},
   "source": [
    "<a name=\"I.-Data-preparation\"></a>\n",
    "## I. Data preparation\n",
    "\n",
    "First thing first. To make natural language understandable for machines, we have to transform sentences into embeddings.  \n",
    "So here are four things to do:\n",
    "\n",
    "1. load data\n",
    "2. preprocess the sentences\n",
    "3. transform sentences into embeddings\n",
    "4. pad the sentences to the same length\n",
    "\n",
    "To make the task simple and easy to understand, we will only work on a single word *party* .  \n",
    "Three senses of *party* is defined as below with their corresponding `sense id`s. "
   ]
  },
  {
   "cell_type": "code",
   "execution_count": 1,
   "id": "involved-cooper",
   "metadata": {},
   "outputs": [],
   "source": [
    "SENSE = {\n",
    "    1: 'a social event at which a group of people meet to talk, eat, drink, dance, etc.', # 派對\n",
    "    2: 'an organization of people with particular political beliefs', # 政黨\n",
    "    3: 'a single entity which can be identified as one for the purposes of the law' # （法庭）當事人；⋯⋯方\n",
    "}"
   ]
  },
  {
   "cell_type": "markdown",
   "id": "premier-missouri",
   "metadata": {},
   "source": [
    "### 1. Load data\n",
    "\n",
    "The data is a set of sentences containing the word *party*, all extracted from wikipedia. The uniqueness of each sentence is guaranteed. "
   ]
  },
  {
   "cell_type": "code",
   "execution_count": 2,
   "id": "polish-damages",
   "metadata": {},
   "outputs": [],
   "source": [
    "import os\n",
    "import re"
   ]
  },
  {
   "cell_type": "code",
   "execution_count": 3,
   "id": "available-skiing",
   "metadata": {},
   "outputs": [],
   "source": [
    "with open(os.path.join('data', 'party.train.txt'), 'r', encoding='utf8') as f:\n",
    "    data = f.read().strip().split('\\n')\n",
    "\n",
    "# this dict maps sentence_id to the sentence itself\n",
    "pure_data = { sent_id: text for sent_id, text in [line.split('\\t', 1) \n",
    "                                                 for line in data] }"
   ]
  },
  {
   "cell_type": "markdown",
   "id": "functional-stage",
   "metadata": {},
   "source": [
    "Let's see what the data looks like."
   ]
  },
  {
   "cell_type": "code",
   "execution_count": 4,
   "id": "missing-replacement",
   "metadata": {},
   "outputs": [
    {
     "name": "stdout",
     "output_type": "stream",
     "text": [
      "1001: A naked party, also known as nude party, is a party where the participants are required to be nude.\n",
      "1002: The town center bears the hallmarks of a typical migration-accepting Turkish rural town, with traditional structures coexisting with a collection of concrete apartment blocks providing public housing, as well as amenities such as basic shopping and fast-food restaurants, and essential infrastructure but little in the way of culture except for cinemas and large rooms hired out for wedding parties.\n",
      "1003: Elections Alberta oversees the creation of political parties and riding associations, compiles election statistics on ridings, and collects financial statements from party candidates and riding associations.\n"
     ]
    }
   ],
   "source": [
    "for sent_id, sentence in pure_data.items():\n",
    "    if int(sent_id) > 1003: break\n",
    "        \n",
    "    print(f'{sent_id}: {sentence}')"
   ]
  },
  {
   "cell_type": "code",
   "execution_count": 5,
   "id": "sufficient-atmosphere",
   "metadata": {},
   "outputs": [],
   "source": [
    "# a look up table from sentence to id\n",
    "id_mapper = {v: k for k, v in pure_data.items()}\n",
    "# a table for id to embedding; we will deal with this later\n",
    "processed_data = {}"
   ]
  },
  {
   "cell_type": "markdown",
   "id": "respiratory-homeless",
   "metadata": {},
   "source": [
    "We define 2 samples here to validate the preprocess during our coding."
   ]
  },
  {
   "cell_type": "code",
   "execution_count": 6,
   "id": "portable-scenario",
   "metadata": {},
   "outputs": [],
   "source": [
    "samples = [\n",
    "    'Adnan Al-Hakim (died May 26, 1990) was the leader of the Najjadeh Party, an Arab nationalist party in Lebanon, for more than 30 years.',\n",
    "    'A block party or street party is a party in which many members of a single community congregate, either to observe an event of some importance or simply for mutual enjoyment.'\n",
    "]"
   ]
  },
  {
   "cell_type": "markdown",
   "id": "revolutionary-haven",
   "metadata": {},
   "source": [
    "### 2. Preprocess the sentences \n",
    "\n",
    "<font color=\"red\">[TODO]</font> Define your preprocessing function to transform a sentence into tokens here.  \n",
    "\n",
    "\\-\n",
    "\n",
    "<small>\n",
    "*hint: If you can't get a high accuracy in the final result, you may want to come back and modify your preprocessing here.<br/>\n",
    "*hint: Think about what words are useful and what are useless when distinguishing a sense.\n",
    "</small>"
   ]
  },
  {
   "cell_type": "code",
   "execution_count": 7,
   "id": "arranged-marijuana",
   "metadata": {},
   "outputs": [],
   "source": [
    "def preprocess(text):\n",
    "    # [ TODO ]\n",
    "    tokens = re.findall(r\"[\\w']+\",text)\n",
    "    return tokens"
   ]
  },
  {
   "cell_type": "code",
   "execution_count": 8,
   "id": "intense-notion",
   "metadata": {},
   "outputs": [
    {
     "data": {
      "text/plain": [
       "['Adnan', 'Al', 'Hakim', 'died', 'May']"
      ]
     },
     "execution_count": 8,
     "metadata": {},
     "output_type": "execute_result"
    }
   ],
   "source": [
    "sent_tokens = [preprocess(sent) for sent in samples]\n",
    "sent_tokens[0][:5]"
   ]
  },
  {
   "cell_type": "markdown",
   "id": "systematic-panel",
   "metadata": {},
   "source": [
    "### 3. Transform sentences into embeddings\n",
    "\n",
    "For the simplicity, we are still using word2vec here, so you can copy-paste your code from previous week.  \n",
    "This is not required; you don't have to use word2vec if you want to train a embedding model along with the classifier.  \n",
    "\n",
    "<small>\\*Download w2v: [Google Code Archive](https://code.google.com/archive/p/word2vec/#Pretrained-word-and-phrase-vectors)</small>"
   ]
  },
  {
   "cell_type": "code",
   "execution_count": 9,
   "id": "peripheral-above",
   "metadata": {},
   "outputs": [],
   "source": [
    "import numpy as np\n",
    "from gensim.models import KeyedVectors"
   ]
  },
  {
   "cell_type": "code",
   "execution_count": 10,
   "id": "united-desperate",
   "metadata": {},
   "outputs": [],
   "source": [
    "w2v = KeyedVectors.load_word2vec_format(\n",
    "        os.path.join('data', 'GoogleNews-vectors-negative300.bin'), \n",
    "        binary = True\n",
    "      )"
   ]
  },
  {
   "cell_type": "code",
   "execution_count": 11,
   "id": "mexican-somerset",
   "metadata": {},
   "outputs": [],
   "source": [
    "def to_embedding(tokens):\n",
    "    # [ TODO ]\n",
    "    result = []\n",
    "    for word in tokens:\n",
    "        try:\n",
    "            embedding_vector = w2v[word]\n",
    "            if embedding_vector is not None:\n",
    "                result.append(embedding_vector)\n",
    "        except:\n",
    "            continue\n",
    "            # print(\"word don't have embedding vector: \"+ word)\n",
    "    return np.array(result)\n"
   ]
  },
  {
   "cell_type": "code",
   "execution_count": 12,
   "id": "oriented-married",
   "metadata": {
    "scrolled": true
   },
   "outputs": [
    {
     "data": {
      "text/plain": [
       "array([[-0.140625  ,  0.20703125, -0.12988281, ...,  0.03076172,\n",
       "         0.07080078,  0.484375  ],\n",
       "       [-0.0390625 ,  0.24804688,  0.00540161, ...,  0.2265625 ,\n",
       "         0.02404785, -0.01477051],\n",
       "       [ 0.05541992,  0.31640625,  0.27929688, ..., -0.06689453,\n",
       "         0.34179688,  0.27929688],\n",
       "       ...,\n",
       "       [ 0.06396484, -0.25585938, -0.08447266, ...,  0.02746582,\n",
       "         0.06494141,  0.06201172],\n",
       "       [-0.07666016, -0.10400391, -0.00175476, ..., -0.01965332,\n",
       "        -0.03442383,  0.0007515 ],\n",
       "       [-0.12695312,  0.20898438, -0.10644531, ...,  0.13476562,\n",
       "         0.01879883, -0.1484375 ]], dtype=float32)"
      ]
     },
     "execution_count": 12,
     "metadata": {},
     "output_type": "execute_result"
    }
   ],
   "source": [
    "embeddings = [to_embedding(tokens) for tokens in sent_tokens]\n",
    "embeddings[0]"
   ]
  },
  {
   "cell_type": "markdown",
   "id": "simplified-calibration",
   "metadata": {},
   "source": [
    "### 4. Pad the sentences to the same length\n",
    "\n",
    "The input size of model is fixed. However, the sentence lengths are various.  \n",
    "An intuitive solution is to stuff some dummy values into arrays util they share the same size, and this is called *padding*.  \n",
    "\n",
    "<small>*<a href=\"https://www.tensorflow.org/api_docs/python/tf/keras/preprocessing/sequence/pad_sequences\">tf.keras.preprocessing.sequence.pad_sequences</a></small>"
   ]
  },
  {
   "cell_type": "code",
   "execution_count": 13,
   "id": "initial-victoria",
   "metadata": {},
   "outputs": [],
   "source": [
    "# if you prefer numpy\n",
    "import numpy as np\n",
    "# or if you prefer tensorflow\n",
    "from tensorflow.keras.preprocessing.sequence import pad_sequences"
   ]
  },
  {
   "cell_type": "code",
   "execution_count": 14,
   "id": "inside-still",
   "metadata": {},
   "outputs": [],
   "source": [
    "def add_padding(embeddings, padding_width = None):\n",
    "    # [ TODO ]\n",
    "    # Pad all embeddings to padding_width, or detect it automatically when it's not given\n",
    "    # ps. tensorflow's `pad_sequences` can detect that for you\n",
    "    insert = np.zeros(300)\n",
    "    max_len = 0\n",
    "    for i in range(len(embeddings)):\n",
    "        if len(embeddings[i]) > max_len:\n",
    "            max_len = len(embeddings[i])\n",
    "\n",
    "    if padding_width is not None:\n",
    "        max_len = padding_width\n",
    "    # print(max_len)\n",
    "    new_embedding = []\n",
    "    for i in range(len(embeddings)):\n",
    "        token_list = list(embeddings[i])\n",
    "        length = len(token_list)\n",
    "        if length < max_len:\n",
    "            for _ in range(max_len-length):\n",
    "                token_list.insert(0, insert)\n",
    "        \n",
    "        new_embedding.append(np.array(token_list))\n",
    "\n",
    "    return np.array(new_embedding)"
   ]
  },
  {
   "cell_type": "code",
   "execution_count": null,
   "id": "16d3a9f6",
   "metadata": {},
   "outputs": [],
   "source": [
    "print(embeddings[0].shape)\n",
    "print(embeddings[1].shape)"
   ]
  },
  {
   "cell_type": "code",
   "execution_count": 15,
   "id": "spatial-classic",
   "metadata": {},
   "outputs": [
    {
     "name": "stdout",
     "output_type": "stream",
     "text": [
      "(2, 26, 300)\n"
     ]
    }
   ],
   "source": [
    "emb_padded = add_padding(embeddings)\n",
    "emb_padded[0]\n",
    "\n",
    "# print(emb_padded[0].shape)\n",
    "# print(emb_padded[1].shape)\n",
    "print(emb_padded.shape)"
   ]
  },
  {
   "cell_type": "markdown",
   "id": "brazilian-talent",
   "metadata": {},
   "source": [
    "You should see the embedding of shorter sentence is padded by empty arrays, and they are at the same length now."
   ]
  },
  {
   "cell_type": "code",
   "execution_count": 16,
   "id": "boring-building",
   "metadata": {},
   "outputs": [
    {
     "name": "stdout",
     "output_type": "stream",
     "text": [
      "26\n"
     ]
    }
   ],
   "source": [
    "# record the width for the future use.\n",
    "PADDING_WIDTH = emb_padded[0].shape[0]\n",
    "print(PADDING_WIDTH)"
   ]
  },
  {
   "cell_type": "markdown",
   "id": "official-postage",
   "metadata": {},
   "source": [
    "### 5. all-in-one\n",
    "\n",
    "Define a function to setup the pipeline, and transform all sentences into embeddings!  \n",
    "\n",
    "<small>\\*Your embedding shape might not be the same with ours due to our different preprocessing procedure. </small>"
   ]
  },
  {
   "cell_type": "code",
   "execution_count": 17,
   "id": "greater-royalty",
   "metadata": {},
   "outputs": [],
   "source": [
    "def process_text(sentences, padding = None):\n",
    "    result = [ preprocess(sentence) for sentence in sentences ]\n",
    "    result = [ to_embedding(sentence) for sentence in result ]\n",
    "    result = add_padding(result, padding)\n",
    "    return result"
   ]
  },
  {
   "cell_type": "code",
   "execution_count": 18,
   "id": "ranking-motel",
   "metadata": {},
   "outputs": [],
   "source": [
    "X = process_text(pure_data.values())"
   ]
  },
  {
   "cell_type": "code",
   "execution_count": null,
   "id": "equivalent-member",
   "metadata": {},
   "outputs": [],
   "source": [
    "X[0] # should be an embedding with padding"
   ]
  },
  {
   "cell_type": "code",
   "execution_count": 19,
   "id": "gross-kelly",
   "metadata": {},
   "outputs": [
    {
     "name": "stdout",
     "output_type": "stream",
     "text": [
      "(637, 84, 300)\n"
     ]
    }
   ],
   "source": [
    "# X.shape # should be (637, *, 300), * depends on your preprocessing\n",
    "print(X.shape)"
   ]
  },
  {
   "cell_type": "markdown",
   "id": "cheap-punishment",
   "metadata": {},
   "source": [
    "Let's use a dictionary to store all embeddings with their sentence_id."
   ]
  },
  {
   "cell_type": "code",
   "execution_count": 20,
   "id": "transparent-environment",
   "metadata": {},
   "outputs": [],
   "source": [
    "processed_data = { \n",
    "    sent_id: embedding for sent_id, embedding in zip(pure_data, X) \n",
    "}"
   ]
  },
  {
   "cell_type": "code",
   "execution_count": 21,
   "id": "boxed-gossip",
   "metadata": {},
   "outputs": [
    {
     "name": "stdout",
     "output_type": "stream",
     "text": [
      "A naked party, also known as nude party, is a party where the participants are required to be nude.\n"
     ]
    },
    {
     "data": {
      "text/plain": [
       "array([[ 0.        ,  0.        ,  0.        , ...,  0.        ,\n",
       "         0.        ,  0.        ],\n",
       "       [ 0.        ,  0.        ,  0.        , ...,  0.        ,\n",
       "         0.        ,  0.        ],\n",
       "       [ 0.        ,  0.        ,  0.        , ...,  0.        ,\n",
       "         0.        ,  0.        ],\n",
       "       ...,\n",
       "       [-0.12890625, -0.18261719,  0.10351562, ..., -0.07714844,\n",
       "        -0.11572266, -0.02832031],\n",
       "       [-0.22851562, -0.08837891,  0.12792969, ..., -0.21289062,\n",
       "         0.18847656, -0.14550781],\n",
       "       [ 0.21582031, -0.12207031,  0.09765625, ..., -0.06201172,\n",
       "        -0.17089844,  0.02563477]])"
      ]
     },
     "execution_count": 21,
     "metadata": {},
     "output_type": "execute_result"
    }
   ],
   "source": [
    "print(pure_data['1001'])\n",
    "processed_data['1001']"
   ]
  },
  {
   "cell_type": "markdown",
   "id": "directed-vinyl",
   "metadata": {},
   "source": [
    "## II. First stage\n",
    "\n",
    "After preprocessing the training data, now we are going to train our first-stage model!  \n",
    "\n",
    "According to the method described at the beginning, we can train a simple model on a smaller dataset, and this dataset can be generated by rule from seeds.  \n",
    "\n",
    "### Steps\n",
    "\n",
    "1. Prepare the training data\n",
    "2. Encode labels\n",
    "3. Split training and testing dataset\n",
    "4. Build classifier\n",
    "5. Train"
   ]
  },
  {
   "cell_type": "markdown",
   "id": "solid-consensus",
   "metadata": {},
   "source": [
    "### 1. Prepare the training data\n",
    "\n",
    "Given the seed collocationss, you can add a sentence into the training data with label if that sentence contains that collocation.  \n",
    "For example, we can say <i>\"A party is a **social** gathering.\"</i> should be the first sense, because it contains the keyword *social*. Hence, your training data will have this sentence with its label `1`.  \n",
    "\n",
    "Don't worry about the false-positive cases for now.  \n",
    "If the seed is generally good enough, the model will learn to ignore those wrong data by itself. (though yeah, you can get better results if you deal with it beforehand)"
   ]
  },
  {
   "cell_type": "code",
   "execution_count": 22,
   "id": "magnetic-humidity",
   "metadata": {},
   "outputs": [],
   "source": [
    "SEEDS = {\n",
    "    1: ['social', 'events'],\n",
    "    2: ['system', 'coalition'],\n",
    "    3: ['court', 'law']\n",
    "}"
   ]
  },
  {
   "cell_type": "code",
   "execution_count": 290,
   "id": "d292b103",
   "metadata": {},
   "outputs": [],
   "source": [
    "# 將整個資料去 label, 看比例\n",
    "value_list = list(SEEDS.values())\n",
    "key_list = list(SEEDS.keys())\n",
    "total_indice, total_X, total_Y = [], [], []\n",
    "for sent_id, sentence in pure_data.items():\n",
    "    for i in range(len(value_list)):\n",
    "        for word in value_list[i]:\n",
    "            if word in sentence:\n",
    "                label = key_list[i]\n",
    "                total_indice.append(sent_id)\n",
    "                total_X.append(processed_data[sent_id])\n",
    "                total_Y.append(label)\n",
    "                if label != 2:\n",
    "                    total_indice.append(sent_id)\n",
    "                    total_X.append(processed_data[sent_id])\n",
    "                    total_Y.append(label)\n",
    "\n",
    "total_X = np.array(total_X)\n",
    "total_Y = np.array(total_Y)"
   ]
  },
  {
   "cell_type": "code",
   "execution_count": 291,
   "id": "5a34c5de",
   "metadata": {},
   "outputs": [
    {
     "name": "stdout",
     "output_type": "stream",
     "text": [
      "(348, 84, 300)\n",
      "(348,)\n",
      "86\n",
      "136\n",
      "126\n"
     ]
    }
   ],
   "source": [
    "print(total_X.shape)\n",
    "print(total_Y.shape)\n",
    "\n",
    "occur3 = np.count_nonzero(total_Y ==3)\n",
    "occur2 = np.count_nonzero(total_Y ==2)\n",
    "occur1 = np.count_nonzero(total_Y ==1)\n",
    "print(occur1)\n",
    "print(occur2)\n",
    "print(occur3)"
   ]
  },
  {
   "cell_type": "markdown",
   "id": "sonic-pricing",
   "metadata": {},
   "source": [
    "<font color=\"red\">[TODO]</font> Get the initial training data from the given seeds.  "
   ]
  },
  {
   "cell_type": "code",
   "execution_count": 292,
   "id": "hourly-power",
   "metadata": {},
   "outputs": [],
   "source": [
    "# [TODO]\n",
    "from random import sample, seed\n",
    "# seed(10)\n",
    "indice, first_X, first_Y = [], [], [] # sentence id of selected samples, selected sentences, detected labels\n",
    "value_list = list(SEEDS.values())\n",
    "key_list = list(SEEDS.keys())\n",
    "for sent_id, sentence in sample(pure_data.items(), 402):\n",
    "\n",
    "    for i in range(len(value_list)):\n",
    "        for word in value_list[i]:\n",
    "            if word in sentence:\n",
    "                label = key_list[i]\n",
    "                indice.append(sent_id)\n",
    "                first_X.append(processed_data[sent_id])\n",
    "                first_Y.append(label)\n",
    "                if label != 2:\n",
    "                    indice.append(sent_id)\n",
    "                    first_X.append(processed_data[sent_id])\n",
    "                    first_Y.append(label)\n",
    "    \n",
    "                "
   ]
  },
  {
   "cell_type": "markdown",
   "id": "universal-matthew",
   "metadata": {},
   "source": [
    "Examine training data.  \n",
    "The labels might not be 100% correct, but it should look reasonable.  "
   ]
  },
  {
   "cell_type": "code",
   "execution_count": 293,
   "id": "practical-transportation",
   "metadata": {},
   "outputs": [
    {
     "name": "stdout",
     "output_type": "stream",
     "text": [
      "Kosovo has a multi-party system, with numerous parties and the system of proportional representation and guaranteed minority representation means that no one party is likely to have a parliamentary majority.\n",
      " -> 2: an organization of people with particular political beliefs\n",
      "\n",
      "The great losers of the election were Labour Party, People's Party for Freedom and Democracy and Democrats 66, the coalition parties of the 'purple' cabinets.\n",
      " -> 2: an organization of people with particular political beliefs\n",
      "\n",
      "A dot com party (often known as an internet party or more generally, a launch party) is a social and business networking party hosted by an Internet-related business, typically for promotional purposes or to celebrate a corporate event such as a product launch, venture funding round, or corporate acquisition.\n",
      " -> 1: a social event at which a group of people meet to talk, eat, drink, dance, etc.\n",
      "\n",
      "A dot com party (often known as an internet party or more generally, a launch party) is a social and business networking party hosted by an Internet-related business, typically for promotional purposes or to celebrate a corporate event such as a product launch, venture funding round, or corporate acquisition.\n",
      " -> 1: a social event at which a group of people meet to talk, eat, drink, dance, etc.\n",
      "\n",
      "As in other parts of the Malaysian federation, the Westminster Parliamentary system is adopted, whereby, the leader of the party with the most seats in the state legislature would usually become the chief minister of Sabah.\n",
      " -> 2: an organization of people with particular political beliefs\n",
      "\n"
     ]
    }
   ],
   "source": [
    "for i in range(5):\n",
    "    print(pure_data[indice[i]])\n",
    "    print(f' -> {first_Y[i]}: {SENSE[first_Y[i]]}')\n",
    "    print()"
   ]
  },
  {
   "cell_type": "markdown",
   "id": "fifteen-channel",
   "metadata": {},
   "source": [
    "Transform X and Y into numpy array for future use."
   ]
  },
  {
   "cell_type": "code",
   "execution_count": 294,
   "id": "polar-halloween",
   "metadata": {},
   "outputs": [
    {
     "name": "stdout",
     "output_type": "stream",
     "text": [
      "(231, 84, 300)\n",
      "(231,)\n"
     ]
    }
   ],
   "source": [
    "first_X = np.array(first_X)\n",
    "first_Y = np.array(first_Y)\n",
    "print(first_X.shape)\n",
    "print(first_Y.shape)"
   ]
  },
  {
   "cell_type": "code",
   "execution_count": 295,
   "id": "e16504ff",
   "metadata": {},
   "outputs": [
    {
     "name": "stdout",
     "output_type": "stream",
     "text": [
      "60\n",
      "91\n",
      "80\n"
     ]
    }
   ],
   "source": [
    "occur3 = np.count_nonzero(first_Y ==3)\n",
    "occur2 = np.count_nonzero(first_Y ==2)\n",
    "occur1 = np.count_nonzero(first_Y ==1)\n",
    "print(occur1)\n",
    "print(occur2)\n",
    "print(occur3)"
   ]
  },
  {
   "cell_type": "markdown",
   "id": "original-modeling",
   "metadata": {},
   "source": [
    "### 2. Encode labels\n",
    "\n",
    "The labels now are all categorical, which are `1`, `2`, and `3` . However, it's hard to teach a machine this kind of answers.  \n",
    "Most of the time, machine learning generates a *numeric probability*, like `0.329`, rather than a categorical result.  \n",
    "That's why we want to encode the label into a floating point between 0 ~ 1, so that the machine can generate the probability of each answer.  \n",
    "\n",
    "Here we suggest you use the one-hot encoding, which is suitable for categorical classification.  \n",
    "So the label `2` will look like\n",
    "```\n",
    " Sense 1, Sense 2, Sense 3\n",
    "[      0,       1,       0]\n",
    "```\n",
    "\n",
    "*<small><a href=\"https://machinelearningmastery.com/why-one-hot-encode-data-in-machine-learning/\">Why One-Hot Encode Data in Machine Learning?</a></small>"
   ]
  },
  {
   "cell_type": "code",
   "execution_count": null,
   "id": "turkish-noise",
   "metadata": {},
   "outputs": [],
   "source": [
    "# if you prefer tensorflow\n",
    "from tensorflow import one_hot\n",
    "# or if you don't like tensorflow\n",
    "from sklearn.preprocessing import OneHotEncoder"
   ]
  },
  {
   "cell_type": "markdown",
   "id": "universal-ivory",
   "metadata": {},
   "source": [
    "<font color=\"red\">[TODO]</font> one-hot encode `first_Y`\n",
    "\n",
    "<small>\n",
    "*<a href=\"https://www.tensorflow.org/api_docs/python/tf/one_hot\">tf.one_hot</a><br/>\n",
    "*<a href=\"https://scikit-learn.org/stable/modules/generated/sklearn.preprocessing.OneHotEncoder.html\">sklearn.preprocessing.OneHotEncoder</a>\n",
    "</small>"
   ]
  },
  {
   "cell_type": "code",
   "execution_count": 296,
   "id": "caroline-portugal",
   "metadata": {},
   "outputs": [],
   "source": [
    "# [TODO]\n",
    "# one_hot 從 0 開始編號，因此深度為 4\n",
    "# one_hot_Y = one_hot(first_Y, 4)\n",
    "onehot_dict = {\n",
    "    1: np.array([1, 0, 0]),\n",
    "    2: np.array([0, 1, 0]),\n",
    "    3: np.array([0, 0, 1])\n",
    "}\n",
    "\n",
    "onehot_Y = np.zeros((len(first_Y), 3))\n",
    "for i in range(len(first_Y)):\n",
    "    onehot_Y[i] = onehot_dict[first_Y[i]]\n",
    "\n",
    "first_Y = onehot_Y"
   ]
  },
  {
   "cell_type": "code",
   "execution_count": 297,
   "id": "cb28717a",
   "metadata": {},
   "outputs": [
    {
     "data": {
      "text/plain": [
       "(231, 3)"
      ]
     },
     "execution_count": 297,
     "metadata": {},
     "output_type": "execute_result"
    }
   ],
   "source": [
    "first_Y.shape\n"
   ]
  },
  {
   "cell_type": "code",
   "execution_count": 244,
   "id": "executed-alabama",
   "metadata": {},
   "outputs": [
    {
     "data": {
      "text/plain": [
       "array([[1., 0., 0.],\n",
       "       [0., 1., 0.],\n",
       "       [1., 0., 0.],\n",
       "       [1., 0., 0.],\n",
       "       [0., 0., 1.]])"
      ]
     },
     "execution_count": 244,
     "metadata": {},
     "output_type": "execute_result"
    }
   ],
   "source": [
    "first_Y[:5]"
   ]
  },
  {
   "cell_type": "markdown",
   "id": "painted-regulation",
   "metadata": {},
   "source": [
    "### 3. Prepare training and validation set\n",
    "\n",
    "Split the dataset into training set and validation set.  \n",
    "The reason for splitting is because, you may not want the model to see what you'll use to test it when it is still learning.\n",
    "\n",
    "Machine is very smart; sometimes it just *memorizes* the answers, rather than *learns* them. Even that the model has yielded a perfect accuracy in the test, it still might fail miserably when facing the cruel, real world. *(heh)*  \n",
    "That's why we need a validation set. We reserve a partition of data that will never be learnt by the model, and use it to validate whether the model really learns someting.\n",
    "\n",
    "<small>*<a href=\"https://tarangshah.com/blog/2017-12-03/train-validation-and-test-sets/\">Train, Validation and Test Sets</a></small>"
   ]
  },
  {
   "cell_type": "code",
   "execution_count": 28,
   "id": "buried-protection",
   "metadata": {},
   "outputs": [],
   "source": [
    "# if you prefer sklearn\n",
    "from sklearn.model_selection import train_test_split\n",
    "# or if you don't like sklearn. **Remember to shuffle your data before splitting.**\n",
    "import numpy as np"
   ]
  },
  {
   "cell_type": "code",
   "execution_count": null,
   "id": "7312d8df",
   "metadata": {},
   "outputs": [],
   "source": [
    "print(len(first_X))\n",
    "print(len(first_Y))"
   ]
  },
  {
   "cell_type": "code",
   "execution_count": 298,
   "id": "bridal-banks",
   "metadata": {},
   "outputs": [],
   "source": [
    "X_train, X_val, Y_train, Y_val = train_test_split(\n",
    "    first_X, first_Y,\n",
    "    test_size = 0.2,   # [TODO] How much data you want to used as validation set\n",
    "    shuffle = True\n",
    ")"
   ]
  },
  {
   "cell_type": "code",
   "execution_count": 271,
   "id": "confidential-merchandise",
   "metadata": {},
   "outputs": [
    {
     "name": "stdout",
     "output_type": "stream",
     "text": [
      "(125, 84, 300) (32, 84, 300) (125, 3) (32, 3)\n"
     ]
    }
   ],
   "source": [
    "print(X_train.shape, X_val.shape, Y_train.shape, Y_val.shape)"
   ]
  },
  {
   "cell_type": "markdown",
   "id": "bronze-qualification",
   "metadata": {},
   "source": [
    "### 4. Build your multi-labeling classifier \n",
    "\n",
    "Now the data is all prepared.  \n",
    "Let's build a model to learn from it!  \n",
    "\n",
    "Note that, different from last week, your output dimension should be the size of all categories, rather than `2` .  \n",
    "\n",
    "\\-\n",
    "\n",
    "<small>\n",
    "*Although tensorflow is used below, you can always change it to any other framework you are familiar with. <br/>\n",
    "*<a href=\"https://www.tensorflow.org/api_docs/python/tf/keras/layers\">tf.keras.layers</a>\n",
    "</small>"
   ]
  },
  {
   "cell_type": "code",
   "execution_count": 33,
   "id": "healthy-strength",
   "metadata": {},
   "outputs": [],
   "source": [
    "from tensorflow.keras.models import Sequential\n",
    "from tensorflow.keras.layers import LSTM, Dense, Dropout, Flatten, BatchNormalization, Embedding#, and all the other layers you may use"
   ]
  },
  {
   "cell_type": "code",
   "execution_count": 272,
   "id": "alternative-pasta",
   "metadata": {},
   "outputs": [
    {
     "name": "stdout",
     "output_type": "stream",
     "text": [
      "84 300 3\n"
     ]
    }
   ],
   "source": [
    "_, PADDING_WIDTH, EMBEDDING_DIM = X_train.shape\n",
    "OUTPUT_CATEGORY = len(SENSE)\n",
    "\n",
    "print(PADDING_WIDTH, EMBEDDING_DIM, OUTPUT_CATEGORY)"
   ]
  },
  {
   "cell_type": "code",
   "execution_count": 130,
   "id": "aef09c17",
   "metadata": {},
   "outputs": [
    {
     "name": "stdout",
     "output_type": "stream",
     "text": [
      "(160, 84, 300)\n",
      "(160, 3)\n"
     ]
    }
   ],
   "source": [
    "print(X_train.shape)\n",
    "print(Y_train.shape)"
   ]
  },
  {
   "cell_type": "markdown",
   "id": "universal-captain",
   "metadata": {},
   "source": [
    "<font color=\"red\">[TODO]</font> Build a classifier"
   ]
  },
  {
   "cell_type": "code",
   "execution_count": 305,
   "id": "alike-context",
   "metadata": {},
   "outputs": [
    {
     "name": "stdout",
     "output_type": "stream",
     "text": [
      "Model: \"sequential_16\"\n",
      "_________________________________________________________________\n",
      "Layer (type)                 Output Shape              Param #   \n",
      "=================================================================\n",
      "lstm_18 (LSTM)               (184, 84, 32)             42624     \n",
      "_________________________________________________________________\n",
      "flatten_16 (Flatten)         (184, 2688)               0         \n",
      "_________________________________________________________________\n",
      "batch_normalization_16 (Batc (184, 2688)               10752     \n",
      "_________________________________________________________________\n",
      "dense_30 (Dense)             (184, 256)                688384    \n",
      "_________________________________________________________________\n",
      "dropout_30 (Dropout)         (184, 256)                0         \n",
      "_________________________________________________________________\n",
      "dense_31 (Dense)             (184, 3)                  771       \n",
      "=================================================================\n",
      "Total params: 742,531\n",
      "Trainable params: 737,155\n",
      "Non-trainable params: 5,376\n",
      "_________________________________________________________________\n",
      "None\n"
     ]
    }
   ],
   "source": [
    "model_1 = Sequential()\n",
    "\n",
    "# [TODO]\n",
    "# model_1.add(Embedding(vocab_size, 300, input_length = PADDING_WIDTH, embeddings_initializer=keras.initializers.constant(embedding_matrix)))\n",
    "# model_1.add(LSTM(128, return_sequences=True))\n",
    "# model_1.add(Dropout(0.3))\n",
    "model_1.add(LSTM(32, return_sequences=True))\n",
    "# model_1.add(Dropout(0.41))\n",
    "model_1.add(Flatten())\n",
    "\n",
    "# model_1.add(Dropout(0.3))\n",
    "model_1.add(BatchNormalization())\n",
    "model_1.add(Dense(256, activation='relu'))\n",
    "model_1.add(Dropout(0.1))\n",
    "model_1.add(Dense(3, activation='softmax'))\n",
    "\n",
    "model_1.build(input_shape=X_train.shape)\n",
    "print(model_1.summary())"
   ]
  },
  {
   "cell_type": "markdown",
   "id": "severe-dressing",
   "metadata": {},
   "source": [
    "Time to choose the optimizer and loss function.  \n",
    "\n",
    "Loss function is an equation evaluating how wrong your model has answered (the lower the better), while optimizer tells the model how to improve itself.  \n",
    "But seriously, we are not asking you to fine-tune these parameters. That is for Machine Learning class, not for NLP class, so if you are not able to pass the baseline, go check your processing procedure first. Something might go wrong there.  \n",
    "\n",
    "\\-\n",
    "\n",
    "<small>\n",
    "*<a href=\"https://www.tensorflow.org/api_docs/python/tf/keras/Model#compile\">tf.keras.model#compile</a> <br/>\n",
    "*<a href=\"https://www.tensorflow.org/api_docs/python/tf/keras/optimizers\">tf.keras.optimizers</a> <br/>\n",
    "*<a href=\"https://www.tensorflow.org/api_docs/python/tf/keras/losses\">tf.keras.losses</a>\n",
    "</small>"
   ]
  },
  {
   "cell_type": "markdown",
   "id": "affected-palace",
   "metadata": {},
   "source": [
    "<font color=\"red\">[TODO]</font> Compile your model"
   ]
  },
  {
   "cell_type": "code",
   "execution_count": 306,
   "id": "medium-indie",
   "metadata": {},
   "outputs": [],
   "source": [
    "# [TODO]\n",
    "model_1.compile(loss='categorical_crossentropy', optimizer='adam', metrics=['accuracy'])\n"
   ]
  },
  {
   "cell_type": "markdown",
   "id": "overhead-needle",
   "metadata": {},
   "source": [
    "### 5. Train \n",
    "\n",
    "Time to train your model!  \n",
    "\n",
    "You should always prevent the model from overfitting, so take validation accuracy into consideration and choose your epoch number wisely.  \n",
    "\n",
    "<small>*<a href=\"https://www.ibm.com/cloud/learn/overfitting\">What is Overfitting?</a></small>"
   ]
  },
  {
   "cell_type": "markdown",
   "id": "collaborative-wisdom",
   "metadata": {},
   "source": [
    "<font color=\"red\">[TODO]</font> Train and tune your model"
   ]
  },
  {
   "cell_type": "code",
   "execution_count": 307,
   "id": "expensive-anthropology",
   "metadata": {},
   "outputs": [
    {
     "name": "stdout",
     "output_type": "stream",
     "text": [
      "Epoch 1/7\n",
      "6/6 [==============================] - 6s 735ms/step - loss: 0.7594 - accuracy: 0.6467 - val_loss: 0.8984 - val_accuracy: 0.6170\n",
      "Epoch 2/7\n",
      "6/6 [==============================] - 0s 68ms/step - loss: 0.2647 - accuracy: 0.9130 - val_loss: 0.8192 - val_accuracy: 0.7021\n",
      "Epoch 3/7\n",
      "6/6 [==============================] - 0s 49ms/step - loss: 0.1101 - accuracy: 0.9620 - val_loss: 0.7638 - val_accuracy: 0.7872\n",
      "Epoch 4/7\n",
      "6/6 [==============================] - 0s 49ms/step - loss: 0.0955 - accuracy: 0.9783 - val_loss: 0.7361 - val_accuracy: 0.8085\n",
      "Epoch 5/7\n",
      "6/6 [==============================] - 0s 52ms/step - loss: 0.1043 - accuracy: 0.9674 - val_loss: 0.7337 - val_accuracy: 0.8085\n",
      "Epoch 6/7\n",
      "6/6 [==============================] - 0s 52ms/step - loss: 0.0744 - accuracy: 0.9620 - val_loss: 0.7309 - val_accuracy: 0.8085\n",
      "Epoch 7/7\n",
      "6/6 [==============================] - 0s 44ms/step - loss: 0.0779 - accuracy: 0.9674 - val_loss: 0.7206 - val_accuracy: 0.8085\n"
     ]
    }
   ],
   "source": [
    "history = model_1.fit(\n",
    "    X_train, Y_train, \n",
    "    validation_data=(X_val, Y_val),\n",
    "    epochs = 7,          # [TODO] how many iterations you want to run\n",
    "    # initial_epoch = ?    # set this if you're continuing previous training\n",
    ")"
   ]
  },
  {
   "cell_type": "code",
   "execution_count": 311,
   "id": "under-transportation",
   "metadata": {},
   "outputs": [
    {
     "name": "stdout",
     "output_type": "stream",
     "text": [
      "Epoch 8/20\n",
      "6/6 [==============================] - 0s 70ms/step - loss: 0.0483 - accuracy: 0.9674 - val_loss: 0.6858 - val_accuracy: 0.8511\n",
      "Epoch 9/20\n",
      "6/6 [==============================] - 0s 59ms/step - loss: 0.0647 - accuracy: 0.9728 - val_loss: 0.6720 - val_accuracy: 0.8511\n",
      "Epoch 10/20\n",
      "6/6 [==============================] - 0s 59ms/step - loss: 0.0814 - accuracy: 0.9728 - val_loss: 0.6583 - val_accuracy: 0.8936\n",
      "Epoch 11/20\n",
      "6/6 [==============================] - 0s 56ms/step - loss: 0.0560 - accuracy: 0.9837 - val_loss: 0.6529 - val_accuracy: 0.8511\n",
      "Epoch 12/20\n",
      "6/6 [==============================] - 0s 61ms/step - loss: 0.0680 - accuracy: 0.9620 - val_loss: 0.6435 - val_accuracy: 0.8298\n",
      "Epoch 13/20\n",
      "6/6 [==============================] - 0s 67ms/step - loss: 0.0379 - accuracy: 0.9783 - val_loss: 0.6299 - val_accuracy: 0.8511\n",
      "Epoch 14/20\n",
      "6/6 [==============================] - 0s 55ms/step - loss: 0.0935 - accuracy: 0.9728 - val_loss: 0.6052 - val_accuracy: 0.8936\n",
      "Epoch 15/20\n",
      "6/6 [==============================] - 0s 49ms/step - loss: 0.0455 - accuracy: 0.9783 - val_loss: 0.6016 - val_accuracy: 0.8936\n",
      "Epoch 16/20\n",
      "6/6 [==============================] - 0s 58ms/step - loss: 0.0573 - accuracy: 0.9674 - val_loss: 0.5936 - val_accuracy: 0.9362\n",
      "Epoch 17/20\n",
      "6/6 [==============================] - 0s 66ms/step - loss: 0.0541 - accuracy: 0.9674 - val_loss: 0.5851 - val_accuracy: 0.8936\n",
      "Epoch 18/20\n",
      "6/6 [==============================] - 0s 53ms/step - loss: 0.0633 - accuracy: 0.9674 - val_loss: 0.5853 - val_accuracy: 0.8723\n",
      "Epoch 19/20\n",
      "6/6 [==============================] - 0s 60ms/step - loss: 0.0422 - accuracy: 0.9783 - val_loss: 0.5829 - val_accuracy: 0.8723\n",
      "Epoch 20/20\n",
      "6/6 [==============================] - 0s 58ms/step - loss: 0.0569 - accuracy: 0.9674 - val_loss: 0.5725 - val_accuracy: 0.8723\n"
     ]
    }
   ],
   "source": [
    "# example of continued training\n",
    "\n",
    "history = model_1.fit(\n",
    "    X_train, Y_train, \n",
    "    validation_data=(X_val, Y_val),\n",
    "    epochs = 20,          # how many iterations you want to run\n",
    "    initial_epoch = 7     # set this if you're continuing previous training\n",
    ")"
   ]
  },
  {
   "cell_type": "code",
   "execution_count": 316,
   "id": "272e018f",
   "metadata": {},
   "outputs": [
    {
     "name": "stdout",
     "output_type": "stream",
     "text": [
      "Epoch 21/25\n",
      "6/6 [==============================] - 0s 52ms/step - loss: 0.0542 - accuracy: 0.9674 - val_loss: 0.5466 - val_accuracy: 0.9362\n",
      "Epoch 22/25\n",
      "6/6 [==============================] - 0s 68ms/step - loss: 0.0505 - accuracy: 0.9783 - val_loss: 0.5350 - val_accuracy: 0.8723\n",
      "Epoch 23/25\n",
      "6/6 [==============================] - 0s 55ms/step - loss: 0.0498 - accuracy: 0.9728 - val_loss: 0.5238 - val_accuracy: 0.9362\n",
      "Epoch 24/25\n",
      "6/6 [==============================] - 0s 51ms/step - loss: 0.0405 - accuracy: 0.9783 - val_loss: 0.5179 - val_accuracy: 0.9149\n",
      "Epoch 25/25\n",
      "6/6 [==============================] - 0s 46ms/step - loss: 0.0475 - accuracy: 0.9728 - val_loss: 0.5013 - val_accuracy: 0.9149\n"
     ]
    }
   ],
   "source": [
    "history = model_1.fit(\n",
    "    X_train, Y_train, \n",
    "    validation_data=(X_val, Y_val),\n",
    "    epochs = 25,          # how many iterations you want to run\n",
    "    initial_epoch = 20     # set this if you're continuing previous training\n",
    ")"
   ]
  },
  {
   "cell_type": "code",
   "execution_count": 320,
   "id": "7426fba4",
   "metadata": {},
   "outputs": [
    {
     "name": "stdout",
     "output_type": "stream",
     "text": [
      "Epoch 26/30\n",
      "6/6 [==============================] - 0s 57ms/step - loss: 0.0424 - accuracy: 0.9728 - val_loss: 0.4892 - val_accuracy: 0.9149\n",
      "Epoch 27/30\n",
      "6/6 [==============================] - 0s 50ms/step - loss: 0.0471 - accuracy: 0.9674 - val_loss: 0.4715 - val_accuracy: 0.9149\n",
      "Epoch 28/30\n",
      "6/6 [==============================] - 0s 64ms/step - loss: 0.0514 - accuracy: 0.9783 - val_loss: 0.4497 - val_accuracy: 0.9362\n",
      "Epoch 29/30\n",
      "6/6 [==============================] - 0s 53ms/step - loss: 0.0666 - accuracy: 0.9728 - val_loss: 0.4366 - val_accuracy: 0.9362\n",
      "Epoch 30/30\n",
      "6/6 [==============================] - 0s 53ms/step - loss: 0.0516 - accuracy: 0.9674 - val_loss: 0.4439 - val_accuracy: 0.9149\n"
     ]
    }
   ],
   "source": [
    "history = model_1.fit(\n",
    "    X_train, Y_train, \n",
    "    validation_data=(X_val, Y_val),\n",
    "    epochs = 30,          # how many iterations you want to run\n",
    "    initial_epoch = 25     # set this if you're continuing previous training\n",
    ")"
   ]
  },
  {
   "cell_type": "markdown",
   "id": "raised-economics",
   "metadata": {},
   "source": [
    "### 6. Examine your model\n",
    "\n",
    "Let's see how good your model does.  "
   ]
  },
  {
   "cell_type": "code",
   "execution_count": 281,
   "id": "beginning-range",
   "metadata": {},
   "outputs": [],
   "source": [
    "testcases = [\n",
    "    # 1\n",
    "    'A block party or street party is a party in which many members of a single community congregate, either to observe an event of some importance or simply for mutual enjoyment.',\n",
    "    'A party is a social gathering.',\n",
    "    # 2\n",
    "    'Ukraine has a multi-party system, with numerous parties in which often not a single party has a chance of gaining power alone, and parties must work with each other to form coalition governments.',\n",
    "    'Serbia has a multi-party system, with numerous parties in which no one party often has a chance of gaining power alone, and parties must work with each other to form coalition governments.',\n",
    "    # 3\n",
    "    'In a civil lawsuit, a nominal party is one named as a party on the record of an action, but having no interest in the action.',\n",
    "]"
   ]
  },
  {
   "cell_type": "code",
   "execution_count": 321,
   "id": "alone-strengthening",
   "metadata": {},
   "outputs": [],
   "source": [
    "# you must specify the padding width here, since the input size of model should always be the same\n",
    "test_X = process_text(testcases, padding = PADDING_WIDTH)"
   ]
  },
  {
   "cell_type": "code",
   "execution_count": 318,
   "id": "relative-month",
   "metadata": {},
   "outputs": [],
   "source": [
    "predictions = model_1.predict(test_X)"
   ]
  },
  {
   "cell_type": "code",
   "execution_count": 286,
   "id": "packed-ocean",
   "metadata": {},
   "outputs": [
    {
     "data": {
      "text/plain": [
       "array([[0.33769137, 0.40841702, 0.25389162],\n",
       "       [0.3401947 , 0.4371507 , 0.22265463],\n",
       "       [0.05900172, 0.8824855 , 0.05851285],\n",
       "       [0.05026186, 0.89369535, 0.05604285],\n",
       "       [0.22716464, 0.35813114, 0.41470426]], dtype=float32)"
      ]
     },
     "execution_count": 286,
     "metadata": {},
     "output_type": "execute_result"
    }
   ],
   "source": [
    "predictions"
   ]
  },
  {
   "cell_type": "markdown",
   "id": "silent-bracelet",
   "metadata": {},
   "source": [
    "#### What does the result mean?\n",
    "\n",
    "As you can see, a list of floats are generated, and since we used one-hot encoding when preparing the training data, each number presents the result of corresponding categories.  \n",
    "```\n",
    " Sense 1, Sense 2, Sense 3\n",
    "[   0.89,    0.12,    0.21]\n",
    "```\n",
    "You can consider these values as the probability of each column, or said category. Hence, the true predicted label should be the one with the highest probability, which is Sense 1 for this sample.  \n",
    "\n",
    "Now let's get all the predicted labels from these probabilities.  "
   ]
  },
  {
   "cell_type": "code",
   "execution_count": 319,
   "id": "suspended-sending",
   "metadata": {},
   "outputs": [
    {
     "name": "stdout",
     "output_type": "stream",
     "text": [
      "A block party or street party is a party in which many members of a single community congregate, either to observe an event of some importance or simply for mutual enjoyment.\n",
      "-> Sense 3 (prob=0.37): a single entity which can be identified as one for the purposes of the law\n",
      "\n",
      "A party is a social gathering.\n",
      "-> Sense 1 (prob=0.55): a social event at which a group of people meet to talk, eat, drink, dance, etc.\n",
      "\n",
      "Ukraine has a multi-party system, with numerous parties in which often not a single party has a chance of gaining power alone, and parties must work with each other to form coalition governments.\n",
      "-> Sense 2 (prob=0.87): an organization of people with particular political beliefs\n",
      "\n",
      "Serbia has a multi-party system, with numerous parties in which no one party often has a chance of gaining power alone, and parties must work with each other to form coalition governments.\n",
      "-> Sense 2 (prob=0.87): an organization of people with particular political beliefs\n",
      "\n",
      "In a civil lawsuit, a nominal party is one named as a party on the record of an action, but having no interest in the action.\n",
      "-> Sense 3 (prob=0.68): a single entity which can be identified as one for the purposes of the law\n",
      "\n"
     ]
    }
   ],
   "source": [
    "for idx, result in enumerate(predictions):\n",
    "    predict_id = result.argmax() # select the index of the maximum value\n",
    "    sense_id = predict_id + 1    # sense_id starts from 1\n",
    "    print(testcases[idx])\n",
    "    print(f'-> Sense {sense_id} (prob={result[predict_id]:.2f}): {SENSE[sense_id]}')\n",
    "    print()"
   ]
  },
  {
   "cell_type": "markdown",
   "id": "brave-maldives",
   "metadata": {},
   "source": [
    "Again, the label might not be 100% correct, but it should look reasonable somehow.  "
   ]
  },
  {
   "cell_type": "markdown",
   "id": "residential-license",
   "metadata": {},
   "source": [
    "## III. Second stage\n",
    "\n",
    "The previous model might not be enough for real-world use; another model with better ability is needed.  \n",
    "\n",
    "<small>*Most contents of this section are the same as previous one, so you can make use of your code above.</small>"
   ]
  },
  {
   "cell_type": "markdown",
   "id": "vocal-success",
   "metadata": {},
   "source": [
    "### 1. Prepare the training data \n",
    "\n",
    "The model from the previous section is weak, yet it still has learned some valuable knowledge.  \n",
    "Let's ask that model to label more training data for us!"
   ]
  },
  {
   "cell_type": "code",
   "execution_count": 407,
   "id": "blank-child",
   "metadata": {},
   "outputs": [],
   "source": [
    "# Get the probability on the whold dataset\n",
    "predictions = model_1.predict(np.array(list(processed_data.values())))"
   ]
  },
  {
   "cell_type": "code",
   "execution_count": 358,
   "id": "ab7d7946",
   "metadata": {},
   "outputs": [
    {
     "data": {
      "text/plain": [
       "array([0.48507053, 0.26981223, 0.24511726], dtype=float32)"
      ]
     },
     "execution_count": 358,
     "metadata": {},
     "output_type": "execute_result"
    }
   ],
   "source": [
    "predictions[0]"
   ]
  },
  {
   "cell_type": "markdown",
   "id": "acoustic-committee",
   "metadata": {},
   "source": [
    "\n",
    "<font color=\"red\">[TODO]</font> Get the labels of all data, and reserve only those labels with high probabilities."
   ]
  },
  {
   "cell_type": "code",
   "execution_count": 408,
   "id": "powerful-debut",
   "metadata": {},
   "outputs": [],
   "source": [
    "THRESHOLD = 0.  # you may want to change this :)\n",
    "from random import sample, seed\n",
    "indice, second_X, second_Y = [], [], [] # sentence id of selected samples, selected sentences, detected labels\n",
    "\n",
    "number = 0\n",
    "list_zip = list(zip(processed_data, predictions))\n",
    "list_zip_sample = sample(list_zip, 402)\n",
    "# list_zip_sample = list_zip\n",
    "\n",
    "for i in range(len(list_zip_sample)):\n",
    "        sent_id = list_zip_sample[i][0]\n",
    "        result = list_zip_sample[i][1]\n",
    "\n",
    "        label = np.argmax(result)+1\n",
    "        indice.append(sent_id)\n",
    "        second_X.append(processed_data[sent_id])\n",
    "        second_Y.append(label)\n",
    "        if label == 3:\n",
    "            indice.append(sent_id)\n",
    "            second_X.append(processed_data[sent_id])\n",
    "            second_Y.append(label)\n",
    "    "
   ]
  },
  {
   "cell_type": "markdown",
   "id": "artificial-python",
   "metadata": {},
   "source": [
    "Observe the selected data size and the quality of labels.  \n",
    "You might want to go back and modify your preprocessing, first model, or the threshold until you get a better training data."
   ]
  },
  {
   "cell_type": "code",
   "execution_count": 360,
   "id": "02bb78d4",
   "metadata": {},
   "outputs": [
    {
     "name": "stdout",
     "output_type": "stream",
     "text": [
      "A naked party, also known as nude party, is a party where the participants are required to be nude.\n",
      " -> 1: a social event at which a group of people meet to talk, eat, drink, dance, etc.\n",
      "\n",
      "The town center bears the hallmarks of a typical migration-accepting Turkish rural town, with traditional structures coexisting with a collection of concrete apartment blocks providing public housing, as well as amenities such as basic shopping and fast-food restaurants, and essential infrastructure but little in the way of culture except for cinemas and large rooms hired out for wedding parties.\n",
      " -> 1: a social event at which a group of people meet to talk, eat, drink, dance, etc.\n",
      "\n",
      "Elections Alberta oversees the creation of political parties and riding associations, compiles election statistics on ridings, and collects financial statements from party candidates and riding associations.\n",
      " -> 2: an organization of people with particular political beliefs\n",
      "\n",
      "A group of characters can join together to form a party and go on levels together.\n",
      " -> 2: an organization of people with particular political beliefs\n",
      "\n",
      "From these social conventions derive in turn also the variants worn on related occasions of varying solemnity, such as formal political, diplomatic, and academic events, in addition to certain parties including award ceremonies, balls, fraternal orders, high school proms, etc.\n",
      " -> 1: a social event at which a group of people meet to talk, eat, drink, dance, etc.\n",
      "\n"
     ]
    }
   ],
   "source": [
    "for i in range(5):\n",
    "    print(pure_data[indice[i]])\n",
    "    print(f' -> {second_Y[i]}: {SENSE[second_Y[i]]}')\n",
    "    print()"
   ]
  },
  {
   "cell_type": "code",
   "execution_count": 409,
   "id": "thirty-narrative",
   "metadata": {},
   "outputs": [
    {
     "data": {
      "text/plain": [
       "(479, 84, 300)"
      ]
     },
     "execution_count": 409,
     "metadata": {},
     "output_type": "execute_result"
    }
   ],
   "source": [
    "second_X = np.array(second_X)\n",
    "second_Y = np.array(second_Y)\n",
    "second_X.shape"
   ]
  },
  {
   "cell_type": "code",
   "execution_count": 410,
   "id": "97f40930",
   "metadata": {},
   "outputs": [
    {
     "name": "stdout",
     "output_type": "stream",
     "text": [
      "(479, 84, 300)\n",
      "(479,)\n"
     ]
    }
   ],
   "source": [
    "print(second_X.shape)\n",
    "print(second_Y.shape)"
   ]
  },
  {
   "cell_type": "code",
   "execution_count": 411,
   "id": "afb18b10",
   "metadata": {},
   "outputs": [
    {
     "name": "stdout",
     "output_type": "stream",
     "text": [
      "124\n",
      "201\n",
      "154\n"
     ]
    }
   ],
   "source": [
    "occur3 = np.count_nonzero(second_Y ==3)\n",
    "occur2 = np.count_nonzero(second_Y ==2)\n",
    "occur1 = np.count_nonzero(second_Y ==1)\n",
    "print(occur1)\n",
    "print(occur2)\n",
    "print(occur3)"
   ]
  },
  {
   "cell_type": "markdown",
   "id": "elect-california",
   "metadata": {},
   "source": [
    "### 2. Encode labels "
   ]
  },
  {
   "cell_type": "markdown",
   "id": "bright-constant",
   "metadata": {},
   "source": [
    "<font color=\"red\">[TODO]</font> one-hot encode secone_Y"
   ]
  },
  {
   "cell_type": "code",
   "execution_count": 412,
   "id": "transparent-fraction",
   "metadata": {},
   "outputs": [],
   "source": [
    "# [TODO]\n",
    "# one_hot 從 0 開始編號，因此深度為 4\n",
    "# one_hot_Y = one_hot(first_Y, 4)\n",
    "\n",
    "onehot2_Y = np.zeros((len(second_Y), 3))\n",
    "for i in range(len(second_Y)):\n",
    "    onehot2_Y[i] = onehot_dict[second_Y[i]]\n",
    "\n",
    "second_Y = onehot2_Y"
   ]
  },
  {
   "cell_type": "code",
   "execution_count": null,
   "id": "champion-calculation",
   "metadata": {},
   "outputs": [],
   "source": [
    "second_Y[:3]"
   ]
  },
  {
   "cell_type": "code",
   "execution_count": 369,
   "id": "9f942a02",
   "metadata": {},
   "outputs": [
    {
     "name": "stdout",
     "output_type": "stream",
     "text": [
      "(762, 84, 300)\n",
      "(762, 3)\n"
     ]
    }
   ],
   "source": [
    "print(second_X.shape)\n",
    "print(second_Y.shape)"
   ]
  },
  {
   "cell_type": "markdown",
   "id": "loose-visiting",
   "metadata": {},
   "source": [
    "### 3. Prepare training and validating dataset"
   ]
  },
  {
   "cell_type": "code",
   "execution_count": 413,
   "id": "rocky-friendly",
   "metadata": {},
   "outputs": [],
   "source": [
    "X_train, X_val, Y_train, Y_val = train_test_split(\n",
    "    second_X, second_Y,\n",
    "    test_size = 0.2,    # [TODO] How much data you want to used as validation set\n",
    "    shuffle = True\n",
    ")"
   ]
  },
  {
   "cell_type": "code",
   "execution_count": 414,
   "id": "collectible-threat",
   "metadata": {},
   "outputs": [
    {
     "name": "stdout",
     "output_type": "stream",
     "text": [
      "(383, 84, 300)\n",
      "(383, 3)\n"
     ]
    }
   ],
   "source": [
    "print(X_train.shape)\n",
    "print(Y_train.shape)"
   ]
  },
  {
   "cell_type": "markdown",
   "id": "annual-enclosure",
   "metadata": {},
   "source": [
    "### 4. Build model"
   ]
  },
  {
   "cell_type": "code",
   "execution_count": 61,
   "id": "synthetic-wagon",
   "metadata": {},
   "outputs": [
    {
     "name": "stdout",
     "output_type": "stream",
     "text": [
      "84 300 3\n"
     ]
    }
   ],
   "source": [
    "# the number comes from previous setting\n",
    "print(PADDING_WIDTH, EMBEDDING_DIM, OUTPUT_CATEGORY)"
   ]
  },
  {
   "cell_type": "markdown",
   "id": "alone-canadian",
   "metadata": {},
   "source": [
    "<font color=\"red\">[TODO]</font> Build your second model\n",
    "\n",
    "<small>*This model can be different from the previous one.</small>"
   ]
  },
  {
   "cell_type": "code",
   "execution_count": 415,
   "id": "connected-placement",
   "metadata": {},
   "outputs": [
    {
     "name": "stdout",
     "output_type": "stream",
     "text": [
      "Model: \"sequential_21\"\n",
      "_________________________________________________________________\n",
      "Layer (type)                 Output Shape              Param #   \n",
      "=================================================================\n",
      "lstm_26 (LSTM)               (383, 84, 64)             93440     \n",
      "_________________________________________________________________\n",
      "dropout_46 (Dropout)         (383, 84, 64)             0         \n",
      "_________________________________________________________________\n",
      "flatten_21 (Flatten)         (383, 5376)               0         \n",
      "_________________________________________________________________\n",
      "dropout_47 (Dropout)         (383, 5376)               0         \n",
      "_________________________________________________________________\n",
      "batch_normalization_21 (Batc (383, 5376)               21504     \n",
      "_________________________________________________________________\n",
      "dense_40 (Dense)             (383, 256)                1376512   \n",
      "_________________________________________________________________\n",
      "dropout_48 (Dropout)         (383, 256)                0         \n",
      "_________________________________________________________________\n",
      "dense_41 (Dense)             (383, 3)                  771       \n",
      "=================================================================\n",
      "Total params: 1,492,227\n",
      "Trainable params: 1,481,475\n",
      "Non-trainable params: 10,752\n",
      "_________________________________________________________________\n",
      "None\n"
     ]
    }
   ],
   "source": [
    "model_2 = Sequential()\n",
    "\n",
    "# [TODO]\n",
    "\n",
    "# model_2.add(LSTM(128, return_sequences=True))\n",
    "# model_2.add(Dropout(0.52))\n",
    "model_2.add(LSTM(64, return_sequences=True))\n",
    "model_2.add(Dropout(0.41))\n",
    "model_2.add(Flatten())\n",
    "\n",
    "model_2.add(Dropout(0.3))\n",
    "model_2.add(BatchNormalization())\n",
    "model_2.add(Dense(256, activation='relu'))\n",
    "model_2.add(Dropout(0.1))\n",
    "model_2.add(Dense(3, activation='softmax'))\n",
    "\n",
    "model_2.build(input_shape=X_train.shape)\n",
    "\n",
    "print(model_2.summary())"
   ]
  },
  {
   "cell_type": "markdown",
   "id": "beneficial-western",
   "metadata": {},
   "source": [
    "<font color=\"red\">[TODO]</font> Compile your model"
   ]
  },
  {
   "cell_type": "code",
   "execution_count": 416,
   "id": "found-intent",
   "metadata": {},
   "outputs": [],
   "source": [
    "# [TODO]\n",
    "model_2.compile(loss='categorical_crossentropy', optimizer='adam', metrics=['accuracy'])"
   ]
  },
  {
   "cell_type": "markdown",
   "id": "previous-birth",
   "metadata": {},
   "source": [
    "### 5. Train model\n",
    "\n",
    "<font color=\"red\">[TODO]</font> Train it!"
   ]
  },
  {
   "cell_type": "code",
   "execution_count": 417,
   "id": "noticed-import",
   "metadata": {},
   "outputs": [
    {
     "name": "stdout",
     "output_type": "stream",
     "text": [
      "Epoch 1/10\n",
      "12/12 [==============================] - 3s 101ms/step - loss: 0.8963 - accuracy: 0.6057 - val_loss: 0.8794 - val_accuracy: 0.7292\n",
      "Epoch 2/10\n",
      "12/12 [==============================] - 1s 67ms/step - loss: 0.3597 - accuracy: 0.8721 - val_loss: 0.7893 - val_accuracy: 0.8021\n",
      "Epoch 3/10\n",
      "12/12 [==============================] - 1s 69ms/step - loss: 0.2370 - accuracy: 0.9138 - val_loss: 0.7158 - val_accuracy: 0.8125\n",
      "Epoch 4/10\n",
      "12/12 [==============================] - 1s 68ms/step - loss: 0.1474 - accuracy: 0.9373 - val_loss: 0.6881 - val_accuracy: 0.8542\n",
      "Epoch 5/10\n",
      "12/12 [==============================] - 1s 69ms/step - loss: 0.1329 - accuracy: 0.9504 - val_loss: 0.6730 - val_accuracy: 0.8750\n",
      "Epoch 6/10\n",
      "12/12 [==============================] - 1s 68ms/step - loss: 0.0579 - accuracy: 0.9922 - val_loss: 0.6175 - val_accuracy: 0.9167\n",
      "Epoch 7/10\n",
      "12/12 [==============================] - 1s 71ms/step - loss: 0.0598 - accuracy: 0.9739 - val_loss: 0.5414 - val_accuracy: 0.8958\n",
      "Epoch 8/10\n",
      "12/12 [==============================] - 1s 70ms/step - loss: 0.0545 - accuracy: 0.9791 - val_loss: 0.4882 - val_accuracy: 0.8958\n",
      "Epoch 9/10\n",
      "12/12 [==============================] - 1s 69ms/step - loss: 0.0397 - accuracy: 0.9869 - val_loss: 0.4665 - val_accuracy: 0.8958\n",
      "Epoch 10/10\n",
      "12/12 [==============================] - 1s 71ms/step - loss: 0.0211 - accuracy: 0.9922 - val_loss: 0.4398 - val_accuracy: 0.8958\n"
     ]
    }
   ],
   "source": [
    "history = model_2.fit(\n",
    "    X_train, Y_train, \n",
    "    validation_data=(X_val, Y_val),\n",
    "    epochs = 10        # [TODO] how many iterations you want to run\n",
    "    # initial_epoch = ?  # set this if you're continuing previous training\n",
    ")"
   ]
  },
  {
   "cell_type": "code",
   "execution_count": 418,
   "id": "3bed3dfc",
   "metadata": {},
   "outputs": [
    {
     "name": "stdout",
     "output_type": "stream",
     "text": [
      "Epoch 11/15\n",
      "12/12 [==============================] - 1s 76ms/step - loss: 0.0616 - accuracy: 0.9713 - val_loss: 0.4080 - val_accuracy: 0.9167\n",
      "Epoch 12/15\n",
      "12/12 [==============================] - 1s 69ms/step - loss: 0.0341 - accuracy: 0.9922 - val_loss: 0.3741 - val_accuracy: 0.9271\n",
      "Epoch 13/15\n",
      "12/12 [==============================] - 1s 69ms/step - loss: 0.0346 - accuracy: 0.9922 - val_loss: 0.3642 - val_accuracy: 0.8854\n",
      "Epoch 14/15\n",
      "12/12 [==============================] - 1s 67ms/step - loss: 0.0289 - accuracy: 0.9896 - val_loss: 0.3439 - val_accuracy: 0.9271\n",
      "Epoch 15/15\n",
      "12/12 [==============================] - 1s 67ms/step - loss: 0.0114 - accuracy: 0.9974 - val_loss: 0.3460 - val_accuracy: 0.8958\n"
     ]
    }
   ],
   "source": [
    "history = model_2.fit(\n",
    "    X_train, Y_train, \n",
    "    validation_data=(X_val, Y_val),\n",
    "    epochs = 15,        # [TODO] how many iterations you want to run\n",
    "    initial_epoch = 10  # set this if you're continuing previous training\n",
    ")"
   ]
  },
  {
   "cell_type": "code",
   "execution_count": 419,
   "id": "14e0214a",
   "metadata": {},
   "outputs": [
    {
     "name": "stdout",
     "output_type": "stream",
     "text": [
      "Epoch 16/18\n",
      "12/12 [==============================] - 1s 71ms/step - loss: 0.0450 - accuracy: 0.9817 - val_loss: 0.3092 - val_accuracy: 0.9271\n",
      "Epoch 17/18\n",
      "12/12 [==============================] - 1s 67ms/step - loss: 0.0156 - accuracy: 0.9974 - val_loss: 0.2951 - val_accuracy: 0.9062\n",
      "Epoch 18/18\n",
      "12/12 [==============================] - 1s 67ms/step - loss: 0.0442 - accuracy: 0.9869 - val_loss: 0.3391 - val_accuracy: 0.8750\n"
     ]
    }
   ],
   "source": [
    "history = model_2.fit(\n",
    "    X_train, Y_train, \n",
    "    validation_data=(X_val, Y_val),\n",
    "    epochs = 18,        # [TODO] how many iterations you want to run\n",
    "    initial_epoch = 15  # set this if you're continuing previous training\n",
    ")"
   ]
  },
  {
   "cell_type": "markdown",
   "id": "southeast-bailey",
   "metadata": {},
   "source": [
    "### 6. Examine the result"
   ]
  },
  {
   "cell_type": "code",
   "execution_count": 420,
   "id": "atlantic-spine",
   "metadata": {},
   "outputs": [],
   "source": [
    "testcases = [\n",
    "    # 1\n",
    "    'Green Beer Day (GBD) is a day-long party, where celebrants drink beer dyed green with artificial coloring or natural processes.',\n",
    "    'When the siblings grew up, they held parties and introduced the tradition to friends while in college, and the tradition began to spread.',\n",
    "    # 2\n",
    "    'Politicians from the two main parties tend to win elections when not confronted by strong challengers from their own party (in which cases their traditional opponents tend to win).',\n",
    "    'After the general election on 22 March 1992, five parties (Rassadorn, Justice Unity, Social Action, Thai Citizen, Chart Thai) designated Suchinda as the prime minister.',\n",
    "    # 3\n",
    "    'Typically, a party has the right to object in court to a line of questioning or at the introduction of a particular piece of evidence.',\n",
    "    'In the practice of law, judicial estoppel (also known as estoppel by inconsistent positions) is an estoppel that precludes a party from taking a position in a case that is contrary to a position it has taken in earlier legal proceedings.'\n",
    "]"
   ]
  },
  {
   "cell_type": "code",
   "execution_count": 434,
   "id": "taken-printer",
   "metadata": {},
   "outputs": [],
   "source": [
    "# you must specify the padding width! \n",
    "test_X = process_text(testcases, padding = PADDING_WIDTH)"
   ]
  },
  {
   "cell_type": "code",
   "execution_count": 435,
   "id": "entitled-brief",
   "metadata": {},
   "outputs": [],
   "source": [
    "predictions = model_2.predict(test_X)"
   ]
  },
  {
   "cell_type": "code",
   "execution_count": 436,
   "id": "4048fdf5",
   "metadata": {},
   "outputs": [
    {
     "name": "stdout",
     "output_type": "stream",
     "text": [
      "[[0.92654544 0.06100381 0.01245083]\n",
      " [0.12303197 0.8424626  0.03450544]\n",
      " [0.03212543 0.89569116 0.07218342]\n",
      " [0.14029951 0.8258109  0.03388954]\n",
      " [0.09980756 0.60266584 0.29752657]\n",
      " [0.07414062 0.0920529  0.83380646]]\n"
     ]
    }
   ],
   "source": [
    "print(predictions)"
   ]
  },
  {
   "cell_type": "code",
   "execution_count": 423,
   "id": "reserved-small",
   "metadata": {},
   "outputs": [
    {
     "name": "stdout",
     "output_type": "stream",
     "text": [
      "Green Beer Day (GBD) is a day-long party, where celebrants drink beer dyed green with artificial coloring or natural processes.\n",
      "-> Sense 1 (prob=0.93): a social event at which a group of people meet to talk, eat, drink, dance, etc.\n",
      "\n",
      "When the siblings grew up, they held parties and introduced the tradition to friends while in college, and the tradition began to spread.\n",
      "-> Sense 2 (prob=0.84): an organization of people with particular political beliefs\n",
      "\n",
      "Politicians from the two main parties tend to win elections when not confronted by strong challengers from their own party (in which cases their traditional opponents tend to win).\n",
      "-> Sense 2 (prob=0.90): an organization of people with particular political beliefs\n",
      "\n",
      "After the general election on 22 March 1992, five parties (Rassadorn, Justice Unity, Social Action, Thai Citizen, Chart Thai) designated Suchinda as the prime minister.\n",
      "-> Sense 2 (prob=0.83): an organization of people with particular political beliefs\n",
      "\n",
      "Typically, a party has the right to object in court to a line of questioning or at the introduction of a particular piece of evidence.\n",
      "-> Sense 2 (prob=0.60): an organization of people with particular political beliefs\n",
      "\n",
      "In the practice of law, judicial estoppel (also known as estoppel by inconsistent positions) is an estoppel that precludes a party from taking a position in a case that is contrary to a position it has taken in earlier legal proceedings.\n",
      "-> Sense 3 (prob=0.83): a single entity which can be identified as one for the purposes of the law\n",
      "\n"
     ]
    }
   ],
   "source": [
    "for idx, result in enumerate(predictions):\n",
    "    predict_id = result.argmax()\n",
    "    sense_id = predict_id + 1    # sense_id starts from 1\n",
    "    print(testcases[idx])\n",
    "    print(f'-> Sense {sense_id} (prob={result[predict_id]:.2f}): {SENSE[sense_id]}')\n",
    "    print()"
   ]
  },
  {
   "cell_type": "markdown",
   "id": "gothic-march",
   "metadata": {},
   "source": [
    "Yet again, the label might not be 100% correct, but it still should look reasonable."
   ]
  },
  {
   "cell_type": "markdown",
   "id": "armed-ottawa",
   "metadata": {},
   "source": [
    "## IV. Evaluation\n",
    "\n",
    "We have our model built! It's time to see how good it is on the testing dataset.  \n",
    "Get the predictions from the final model and examine the results.  "
   ]
  },
  {
   "cell_type": "code",
   "execution_count": 437,
   "id": "exact-anthony",
   "metadata": {},
   "outputs": [],
   "source": [
    "with open(os.path.join('data', 'party.test.txt'), 'r', encoding='utf8') as f:\n",
    "    data = f.read().strip().split('\\n')\n",
    "\n",
    "# this dict maps sentence_id to the sentence itself\n",
    "test_data = { sent_id: text for sent_id, text in [line.split('\\t', 1) \n",
    "                                                 for line in data] }"
   ]
  },
  {
   "cell_type": "code",
   "execution_count": 433,
   "id": "brief-credits",
   "metadata": {},
   "outputs": [
    {
     "name": "stdout",
     "output_type": "stream",
     "text": [
      "1638: Patent ambiguity is that ambiguity which is apparent on the face of an instrument to any one perusing it, even if unacquainted with the circumstances of the parties.\n",
      "1639: Smith played at parties, juke joints, and fish fries.\n",
      "1640: Turkey has a multi-party system, with two or three strong parties and often a fourth party that is electorally successful.\n",
      "1641: The Christian Liberation Movement ( or simply MCL) is a Cuban dissident party advocating political change in Cuba.\n"
     ]
    }
   ],
   "source": [
    "for idx, (sent_id, sentence) in enumerate(test_data.items()):\n",
    "    if idx > 3: break\n",
    "        \n",
    "    print(f'{sent_id}: {sentence}')"
   ]
  },
  {
   "cell_type": "markdown",
   "id": "associate-gambling",
   "metadata": {},
   "source": [
    "<font color=\"red\">[TODO]</font> Get the labels of testing data.  \n",
    "\n",
    "Try to reserve the sentence id, because you will need it while requesting your accuracy.  \n",
    "Recommended format of `final_predictions` : \n",
    "```\n",
    "{ sent_id: sense_id }\n",
    "```"
   ]
  },
  {
   "cell_type": "code",
   "execution_count": 438,
   "id": "extra-acquisition",
   "metadata": {},
   "outputs": [],
   "source": [
    "final_predictions = {}\n",
    "\n",
    "# [TODO]\n",
    "test_final_X = process_text(test_data.values(), padding = PADDING_WIDTH)\n",
    "predictions = model_2.predict(test_final_X)\n",
    "\n",
    "for sent_id, result in zip(test_data, predictions):\n",
    "    label = np.argmax(result)+1\n",
    "    final_predictions[sent_id] = int(label)\n"
   ]
  },
  {
   "cell_type": "code",
   "execution_count": 440,
   "id": "painful-creation",
   "metadata": {},
   "outputs": [
    {
     "name": "stdout",
     "output_type": "stream",
     "text": [
      "Patent ambiguity is that ambiguity which is apparent on the face of an instrument to any one perusing it, even if unacquainted with the circumstances of the parties.\n",
      "-> Sense 3: a single entity which can be identified as one for the purposes of the law\n",
      "\n",
      "Smith played at parties, juke joints, and fish fries.\n",
      "-> Sense 2: an organization of people with particular political beliefs\n",
      "\n",
      "Turkey has a multi-party system, with two or three strong parties and often a fourth party that is electorally successful.\n",
      "-> Sense 2: an organization of people with particular political beliefs\n",
      "\n",
      "The Christian Liberation Movement ( or simply MCL) is a Cuban dissident party advocating political change in Cuba.\n",
      "-> Sense 2: an organization of people with particular political beliefs\n",
      "\n",
      "Greens Party () was a green liberal party in Turkey.\n",
      "-> Sense 2: an organization of people with particular political beliefs\n",
      "\n",
      "Under the Constitution of North Korea, all citizens 17 and older, regardless of party affiliation, political views, or religion, are eligible to be elected to the legislature and vote in elections.\n",
      "-> Sense 2: an organization of people with particular political beliefs\n",
      "\n"
     ]
    }
   ],
   "source": [
    "for idx, (sent_id, pred) in enumerate(final_predictions.items()):\n",
    "    if idx > 5: break\n",
    "        \n",
    "    print(test_data[sent_id])\n",
    "    print(f'-> Sense {pred}: {SENSE[pred]}')\n",
    "    print()"
   ]
  },
  {
   "cell_type": "markdown",
   "id": "complicated-physics",
   "metadata": {},
   "source": [
    "### Get your accuracy\n",
    "\n",
    "Send your predictions in json format to our server, and we will calculate the accuracy for you.  \n",
    "The format should be \n",
    "```\n",
    "{ sentence_id: sense_id }\n",
    "```\n",
    "Example,\n",
    "```\n",
    "{\n",
    "    1001: 1,\n",
    "    1002: 1,\n",
    "    ...\n",
    "}\n",
    "```"
   ]
  },
  {
   "cell_type": "code",
   "execution_count": 183,
   "id": "sustainable-medicaid",
   "metadata": {},
   "outputs": [],
   "source": [
    "import json\n",
    "import requests"
   ]
  },
  {
   "cell_type": "code",
   "execution_count": 441,
   "id": "shaped-battery",
   "metadata": {},
   "outputs": [],
   "source": [
    "data = json.dumps(final_predictions)\n",
    "ret = requests.post('http://jedi.nlplab.cc:4500/check', \n",
    "                    json = { 'data': data }\n",
    "                   )"
   ]
  },
  {
   "cell_type": "code",
   "execution_count": 442,
   "id": "impossible-viking",
   "metadata": {},
   "outputs": [
    {
     "name": "stdout",
     "output_type": "stream",
     "text": [
      "{'accuracy': 0.7285714285714285, 'comment': ['Well done!']}\n"
     ]
    }
   ],
   "source": [
    "if not ret.ok:\n",
    "    print('Something wrong :o')\n",
    "print(ret.json())"
   ]
  },
  {
   "cell_type": "markdown",
   "id": "narrative-acrobat",
   "metadata": {},
   "source": [
    "**REQUIREMENT**  \n",
    "**Your accuracy should be <u>higher than 0.70</u> to get the full points.**\n",
    "\n",
    "But do note that your assignment is mostly scored on your implementation, not just on the accuracy.  \n",
    "So even if you brute-forcely attack our server and get 100% accuracy, you still can't get your points if your code doesn't make sense to TA."
   ]
  },
  {
   "cell_type": "markdown",
   "id": "vocational-thread",
   "metadata": {},
   "source": [
    "## TA's note\n",
    "\n",
    "Congratuation! You've finished the assignment this week.  \n",
    "Don't forget to <b>[make an appoiment with TA](https://docs.google.com/spreadsheets/d/1QGeYl5dsD9sFO9SYg4DIKk-xr-yGjRDOOLKZqCLDv2E/edit#gid=1902646609) to demo/explain your implementation <u>before <font color=\"red\">11/18 15:30</font></u></b> .  \n",
    "Also make sure you submit your {student_id}.ipynb to [eeclass](https://eeclass.nthu.edu.tw/course/homework/4615).\n",
    "\n",
    "Please note that <font color=\"red\">we will announce our final project on 11/18</font>. Again, **we strongly suggest you join and listen** .  \n",
    "We will have 2 Ph.D. students introduce the selected topics in class and give you some guidelines about how to approach your project.  \n",
    "Also, we will have a team-matching session at the end of the class, in which you may want to participate to find teammates."
   ]
  },
  {
   "cell_type": "code",
   "execution_count": null,
   "id": "polar-fleece",
   "metadata": {},
   "outputs": [],
   "source": []
  }
 ],
 "metadata": {
  "interpreter": {
   "hash": "07d37431c3a3df9bcf522a81701087d631d582cf2af9e5eb1fee4b0875132d49"
  },
  "kernelspec": {
   "display_name": "Python 3.9 [tf2.6]",
   "language": "python",
   "name": "python3"
  },
  "language_info": {
   "codemirror_mode": {
    "name": "ipython",
    "version": 3
   },
   "file_extension": ".py",
   "mimetype": "text/x-python",
   "name": "python",
   "nbconvert_exporter": "python",
   "pygments_lexer": "ipython3",
   "version": "3.6.13"
  }
 },
 "nbformat": 4,
 "nbformat_minor": 5
}
