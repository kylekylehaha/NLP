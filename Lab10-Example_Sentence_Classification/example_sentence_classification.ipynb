{
  "cells": [
    {
      "cell_type": "markdown",
      "metadata": {
        "id": "skPDgNS58rFf"
      },
      "source": [
        "# Week 13: Example Sentences Classification\n",
        "In the last two assignment, we use deep learning method to do classification task. We can get good result by deep learning, but we can hardly explain the classification result(i.e., we don't know why the phrase is classified as \"good\" phrase). Hence, in this assignment, we want you do classification again, but do it by traditional machine learning method. In this way, you can know *why* more. We want you implement this on example sentences(e.g., \"This song has a brilliant piano intro.\" for word \"brilliant\").\n",
        "\n",
        "[Here](https://drive.google.com/drive/folders/1ij20ecLlI1Zh5CdMAa91SXQzmpKfdBdJ?usp=sharing) are two files needed for this task: **train.jsonl** & **test.jsonl**. In these files, each line records one example sentence with its label. There're two types of labels: ***positive*** means it's *good* example sentence;  ***negative*** means it's *bad* example sentence."
      ]
    },
    {
      "cell_type": "markdown",
      "metadata": {
        "id": "e3jvUPRw8rFi"
      },
      "source": [
        "## Read Data\n",
        "We use dataframe to keep data in this assignment."
      ]
    },
    {
      "cell_type": "code",
      "execution_count": 19,
      "metadata": {
        "id": "dtHcqH788rFj"
      },
      "outputs": [],
      "source": [
        "import json\n",
        "import pandas as pd"
      ]
    },
    {
      "cell_type": "code",
      "execution_count": 20,
      "metadata": {
        "id": "IMYSnsTm8rFk"
      },
      "outputs": [],
      "source": [
        "def read_data_to_df(path):\n",
        "    labels = []\n",
        "    sentences = []\n",
        "    with open(path, 'r', encoding='utf-8') as f:\n",
        "        for line in f.readlines():\n",
        "            line = json.loads(line)\n",
        "            sentences.append(line['text'])\n",
        "            labels.append(line['label'])\n",
        "    return pd.DataFrame({'sent':sentences,'label':labels})  "
      ]
    },
    {
      "cell_type": "code",
      "execution_count": 21,
      "metadata": {
        "id": "fiO7gnYN8rFl",
        "outputId": "40fed14f-db99-4b3d-fdba-c877a45eb12d"
      },
      "outputs": [
        {
          "name": "stdout",
          "output_type": "stream",
          "text": [
            "                                                sent     label\n",
            "0         My children threw a birthday party for me.  positive\n",
            "1  Marketing on social networking sites is a fast...  positive\n",
            "2                You pillock, look what you've done!  positive\n",
            "3      He scored three touchdowns early in the game.  positive\n",
            "4          His abrupt manner makes me uncomfortable.  positive\n",
            "                                                sent     label\n",
            "0  I've just spotted Mark - he's over there, near...  positive\n",
            "1  After repricing, the bonds yield a much higher...  positive\n",
            "2             I admire her staunchness and fidelity.  positive\n",
            "3  The party's leader is in favour of the treaty ...  positive\n",
            "4  About 20 companies are working on treatments f...  positive\n"
          ]
        }
      ],
      "source": [
        "train = read_data_to_df('data/train.jsonl')\n",
        "print(train.head())\n",
        "test = read_data_to_df('data/test.jsonl')\n",
        "print(test.head())"
      ]
    },
    {
      "cell_type": "code",
      "execution_count": 22,
      "metadata": {},
      "outputs": [
        {
          "name": "stdout",
          "output_type": "stream",
          "text": [
            "train.shape: (243948, 2)\n",
            "test.shape:  (30520, 2)\n"
          ]
        }
      ],
      "source": [
        "print('train.shape:', train.shape)\n",
        "print('test.shape: ', test.shape)"
      ]
    },
    {
      "cell_type": "markdown",
      "metadata": {
        "id": "fYwKypbh8rFm"
      },
      "source": [
        "## Extract Features\n",
        "Traditional machine learning need data scientists to observe data and find out some useful information. \n",
        "\n",
        "Here is an example:"
      ]
    },
    {
      "cell_type": "code",
      "execution_count": 23,
      "metadata": {
        "id": "8KEgpP2J8rFm",
        "outputId": "36c2567b-2ef3-4b4f-c51e-f2a1053c4093"
      },
      "outputs": [
        {
          "name": "stdout",
          "output_type": "stream",
          "text": [
            "0.058014915590512126\n",
            "0.3834226149596325\n"
          ]
        }
      ],
      "source": [
        "import re\n",
        "# for positive\n",
        "spec = 0\n",
        "count=0\n",
        "for i in train[train['label'] == \"positive\"][\"sent\"]:\n",
        "    if len(re.sub('[\\w\\s]','',i)) >3:\n",
        "        spec+=1\n",
        "    count+=1\n",
        "\n",
        "print(spec/count)\n",
        "\n",
        "spec = 0\n",
        "count=0\n",
        "for i in train[train['label'] == \"negative\"][\"sent\"]:\n",
        "    if len(re.sub('[\\w\\s]','',i)) >3:\n",
        "        spec+=1\n",
        "    count+=1\n",
        "\n",
        "print(spec/count)"
      ]
    },
    {
      "cell_type": "markdown",
      "metadata": {
        "id": "hjjEz-ft8rFo"
      },
      "source": [
        "After some experiment, we found 38% of bad example sentences have more than 3 punctuations. In contrast, only 5.8% of good example sentences have more than 3 punctuations. Hence, it seems that it is a nice feature to distinguish good and bad example sentences, so we add this feature."
      ]
    },
    {
      "cell_type": "code",
      "execution_count": 24,
      "metadata": {
        "id": "Xui1SJQH8rFo"
      },
      "outputs": [],
      "source": [
        "train[\"more than three punc\"] = [1 if len(re.sub('[\\w\\s]','',i)) >3 else 0 for i in train[\"sent\"]]\n",
        "test[\"more than three punc\"] = [1 if len(re.sub('[\\w\\s]','',i))>3 else 0 for i in test[\"sent\"]]"
      ]
    },
    {
      "cell_type": "code",
      "execution_count": 25,
      "metadata": {
        "id": "NRWFCH6g8rFo",
        "outputId": "3dac5009-7cf5-404e-c168-6787a7578bd3"
      },
      "outputs": [
        {
          "data": {
            "text/html": [
              "<div>\n",
              "<style scoped>\n",
              "    .dataframe tbody tr th:only-of-type {\n",
              "        vertical-align: middle;\n",
              "    }\n",
              "\n",
              "    .dataframe tbody tr th {\n",
              "        vertical-align: top;\n",
              "    }\n",
              "\n",
              "    .dataframe thead th {\n",
              "        text-align: right;\n",
              "    }\n",
              "</style>\n",
              "<table border=\"1\" class=\"dataframe\">\n",
              "  <thead>\n",
              "    <tr style=\"text-align: right;\">\n",
              "      <th></th>\n",
              "      <th>sent</th>\n",
              "      <th>label</th>\n",
              "      <th>more than three punc</th>\n",
              "    </tr>\n",
              "  </thead>\n",
              "  <tbody>\n",
              "    <tr>\n",
              "      <th>0</th>\n",
              "      <td>My children threw a birthday party for me.</td>\n",
              "      <td>positive</td>\n",
              "      <td>0</td>\n",
              "    </tr>\n",
              "    <tr>\n",
              "      <th>1</th>\n",
              "      <td>Marketing on social networking sites is a fast...</td>\n",
              "      <td>positive</td>\n",
              "      <td>0</td>\n",
              "    </tr>\n",
              "    <tr>\n",
              "      <th>2</th>\n",
              "      <td>You pillock, look what you've done!</td>\n",
              "      <td>positive</td>\n",
              "      <td>0</td>\n",
              "    </tr>\n",
              "    <tr>\n",
              "      <th>3</th>\n",
              "      <td>He scored three touchdowns early in the game.</td>\n",
              "      <td>positive</td>\n",
              "      <td>0</td>\n",
              "    </tr>\n",
              "    <tr>\n",
              "      <th>4</th>\n",
              "      <td>His abrupt manner makes me uncomfortable.</td>\n",
              "      <td>positive</td>\n",
              "      <td>0</td>\n",
              "    </tr>\n",
              "  </tbody>\n",
              "</table>\n",
              "</div>"
            ],
            "text/plain": [
              "                                                sent     label  \\\n",
              "0         My children threw a birthday party for me.  positive   \n",
              "1  Marketing on social networking sites is a fast...  positive   \n",
              "2                You pillock, look what you've done!  positive   \n",
              "3      He scored three touchdowns early in the game.  positive   \n",
              "4          His abrupt manner makes me uncomfortable.  positive   \n",
              "\n",
              "   more than three punc  \n",
              "0                     0  \n",
              "1                     0  \n",
              "2                     0  \n",
              "3                     0  \n",
              "4                     0  "
            ]
          },
          "execution_count": 25,
          "metadata": {},
          "output_type": "execute_result"
        }
      ],
      "source": [
        "train.head()"
      ]
    },
    {
      "cell_type": "markdown",
      "metadata": {
        "id": "DqcP3Ddv8rFp"
      },
      "source": [
        "<font color=\"red\">**[ TODO ]**</font> Please observe the data and extract at least three features and add them to the dataframe."
      ]
    },
    {
      "cell_type": "code",
      "execution_count": 26,
      "metadata": {
        "id": "s3Gfv_Je8rFp"
      },
      "outputs": [
        {
          "name": "stdout",
          "output_type": "stream",
          "text": [
            "0.043896476590317264\n",
            "0.26250324313599804\n"
          ]
        }
      ],
      "source": [
        "# length\n",
        "# avg_len_pos = 63.217\n",
        "# avg_len_neg = 93.2698\n",
        "spec_pos, count_pos, spec_neg, count_neg = 0, 0, 0, 0\n",
        "len_pos = []\n",
        "len_neg = []\n",
        "for i in train[train['label'] == \"positive\"][\"sent\"]:\n",
        "    len_pos.append(len(i))\n",
        "\n",
        "for i in train[train['label'] == 'negative']['sent']:\n",
        "    len_neg.append(len(i))\n",
        "\n",
        "avg_len_pos = sum(len_pos)/len(len_pos)\n",
        "avg_len_neg = sum(len_neg)/len(len_neg)\n",
        "\n",
        "for i in train[train['label'] == \"positive\"][\"sent\"]:\n",
        "    if len(i) > 110:\n",
        "        spec_pos += 1\n",
        "    count_pos += 1\n",
        "\n",
        "for i in train[train['label'] == 'negative']['sent']:\n",
        "    if len(i) > 110:\n",
        "        spec_neg += 1\n",
        "    count_neg += 1\n",
        "\n",
        "print(spec_pos/count_pos)\n",
        "print(spec_neg/count_neg)"
      ]
    },
    {
      "cell_type": "code",
      "execution_count": 27,
      "metadata": {},
      "outputs": [],
      "source": [
        "train[\"length > 110\"] = [1 if len(i) > 110 else 0 for i in train[\"sent\"]]\n",
        "test[\"length > 110\"] = [1 if len(i) > 110 else 0 for i in test[\"sent\"]]"
      ]
    },
    {
      "cell_type": "code",
      "execution_count": 28,
      "metadata": {},
      "outputs": [
        {
          "data": {
            "text/html": [
              "<div>\n",
              "<style scoped>\n",
              "    .dataframe tbody tr th:only-of-type {\n",
              "        vertical-align: middle;\n",
              "    }\n",
              "\n",
              "    .dataframe tbody tr th {\n",
              "        vertical-align: top;\n",
              "    }\n",
              "\n",
              "    .dataframe thead th {\n",
              "        text-align: right;\n",
              "    }\n",
              "</style>\n",
              "<table border=\"1\" class=\"dataframe\">\n",
              "  <thead>\n",
              "    <tr style=\"text-align: right;\">\n",
              "      <th></th>\n",
              "      <th>sent</th>\n",
              "      <th>label</th>\n",
              "      <th>more than three punc</th>\n",
              "      <th>length &gt; 110</th>\n",
              "    </tr>\n",
              "  </thead>\n",
              "  <tbody>\n",
              "    <tr>\n",
              "      <th>0</th>\n",
              "      <td>My children threw a birthday party for me.</td>\n",
              "      <td>positive</td>\n",
              "      <td>0</td>\n",
              "      <td>0</td>\n",
              "    </tr>\n",
              "    <tr>\n",
              "      <th>1</th>\n",
              "      <td>Marketing on social networking sites is a fast...</td>\n",
              "      <td>positive</td>\n",
              "      <td>0</td>\n",
              "      <td>0</td>\n",
              "    </tr>\n",
              "    <tr>\n",
              "      <th>2</th>\n",
              "      <td>You pillock, look what you've done!</td>\n",
              "      <td>positive</td>\n",
              "      <td>0</td>\n",
              "      <td>0</td>\n",
              "    </tr>\n",
              "    <tr>\n",
              "      <th>3</th>\n",
              "      <td>He scored three touchdowns early in the game.</td>\n",
              "      <td>positive</td>\n",
              "      <td>0</td>\n",
              "      <td>0</td>\n",
              "    </tr>\n",
              "    <tr>\n",
              "      <th>4</th>\n",
              "      <td>His abrupt manner makes me uncomfortable.</td>\n",
              "      <td>positive</td>\n",
              "      <td>0</td>\n",
              "      <td>0</td>\n",
              "    </tr>\n",
              "  </tbody>\n",
              "</table>\n",
              "</div>"
            ],
            "text/plain": [
              "                                                sent     label  \\\n",
              "0         My children threw a birthday party for me.  positive   \n",
              "1  Marketing on social networking sites is a fast...  positive   \n",
              "2                You pillock, look what you've done!  positive   \n",
              "3      He scored three touchdowns early in the game.  positive   \n",
              "4          His abrupt manner makes me uncomfortable.  positive   \n",
              "\n",
              "   more than three punc  length > 110  \n",
              "0                     0             0  \n",
              "1                     0             0  \n",
              "2                     0             0  \n",
              "3                     0             0  \n",
              "4                     0             0  "
            ]
          },
          "execution_count": 28,
          "metadata": {},
          "output_type": "execute_result"
        }
      ],
      "source": [
        "train.head()"
      ]
    },
    {
      "cell_type": "code",
      "execution_count": 29,
      "metadata": {},
      "outputs": [
        {
          "name": "stdout",
          "output_type": "stream",
          "text": [
            "0.012524135976333457\n",
            "0.2662576499855013\n"
          ]
        }
      ],
      "source": [
        "# exist \"(\"\n",
        "import re\n",
        "# for positive\n",
        "spec = 0\n",
        "count=0\n",
        "for i in train[train['label'] == \"positive\"][\"sent\"]:\n",
        "    if \"(\" in i:\n",
        "        spec+=1\n",
        "    count+=1\n",
        "print(spec/count)\n",
        "\n",
        "# for negative\n",
        "spec = 0\n",
        "count=0\n",
        "for i in train[train['label'] == \"negative\"][\"sent\"]:\n",
        "    if \"(\" in i :\n",
        "        spec+=1\n",
        "    count+=1\n",
        "print(spec/count)"
      ]
    },
    {
      "cell_type": "code",
      "execution_count": 30,
      "metadata": {},
      "outputs": [],
      "source": [
        "train[\"exist_left_bracket\"] = [1 if \"(\" in i  else 0 for i in train[\"sent\"]]\n",
        "test[\"exist_left_bracket\"] = [1 if \"(\" in i else 0 for i in test[\"sent\"]]"
      ]
    },
    {
      "cell_type": "code",
      "execution_count": 31,
      "metadata": {},
      "outputs": [
        {
          "data": {
            "text/html": [
              "<div>\n",
              "<style scoped>\n",
              "    .dataframe tbody tr th:only-of-type {\n",
              "        vertical-align: middle;\n",
              "    }\n",
              "\n",
              "    .dataframe tbody tr th {\n",
              "        vertical-align: top;\n",
              "    }\n",
              "\n",
              "    .dataframe thead th {\n",
              "        text-align: right;\n",
              "    }\n",
              "</style>\n",
              "<table border=\"1\" class=\"dataframe\">\n",
              "  <thead>\n",
              "    <tr style=\"text-align: right;\">\n",
              "      <th></th>\n",
              "      <th>sent</th>\n",
              "      <th>label</th>\n",
              "      <th>more than three punc</th>\n",
              "      <th>length &gt; 110</th>\n",
              "      <th>exist_left_bracket</th>\n",
              "    </tr>\n",
              "  </thead>\n",
              "  <tbody>\n",
              "    <tr>\n",
              "      <th>0</th>\n",
              "      <td>My children threw a birthday party for me.</td>\n",
              "      <td>positive</td>\n",
              "      <td>0</td>\n",
              "      <td>0</td>\n",
              "      <td>0</td>\n",
              "    </tr>\n",
              "    <tr>\n",
              "      <th>1</th>\n",
              "      <td>Marketing on social networking sites is a fast...</td>\n",
              "      <td>positive</td>\n",
              "      <td>0</td>\n",
              "      <td>0</td>\n",
              "      <td>0</td>\n",
              "    </tr>\n",
              "    <tr>\n",
              "      <th>2</th>\n",
              "      <td>You pillock, look what you've done!</td>\n",
              "      <td>positive</td>\n",
              "      <td>0</td>\n",
              "      <td>0</td>\n",
              "      <td>0</td>\n",
              "    </tr>\n",
              "    <tr>\n",
              "      <th>3</th>\n",
              "      <td>He scored three touchdowns early in the game.</td>\n",
              "      <td>positive</td>\n",
              "      <td>0</td>\n",
              "      <td>0</td>\n",
              "      <td>0</td>\n",
              "    </tr>\n",
              "    <tr>\n",
              "      <th>4</th>\n",
              "      <td>His abrupt manner makes me uncomfortable.</td>\n",
              "      <td>positive</td>\n",
              "      <td>0</td>\n",
              "      <td>0</td>\n",
              "      <td>0</td>\n",
              "    </tr>\n",
              "  </tbody>\n",
              "</table>\n",
              "</div>"
            ],
            "text/plain": [
              "                                                sent     label  \\\n",
              "0         My children threw a birthday party for me.  positive   \n",
              "1  Marketing on social networking sites is a fast...  positive   \n",
              "2                You pillock, look what you've done!  positive   \n",
              "3      He scored three touchdowns early in the game.  positive   \n",
              "4          His abrupt manner makes me uncomfortable.  positive   \n",
              "\n",
              "   more than three punc  length > 110  exist_left_bracket  \n",
              "0                     0             0                   0  \n",
              "1                     0             0                   0  \n",
              "2                     0             0                   0  \n",
              "3                     0             0                   0  \n",
              "4                     0             0                   0  "
            ]
          },
          "execution_count": 31,
          "metadata": {},
          "output_type": "execute_result"
        }
      ],
      "source": [
        "train.head()"
      ]
    },
    {
      "cell_type": "code",
      "execution_count": 32,
      "metadata": {},
      "outputs": [
        {
          "name": "stdout",
          "output_type": "stream",
          "text": [
            "0.05045969070521337\n",
            "0.2811608137600537\n"
          ]
        }
      ],
      "source": [
        "# len(token) > 19\n",
        "import re\n",
        "# for positive\n",
        "spec = 0\n",
        "count=0\n",
        "for i in train[train['label'] == \"positive\"][\"sent\"]:\n",
        "    if len(i.split()) > 18:\n",
        "        spec+=1\n",
        "    count+=1\n",
        "print(spec/count)\n",
        "\n",
        "# for negative\n",
        "spec = 0\n",
        "count=0\n",
        "for i in train[train['label'] == \"negative\"][\"sent\"]:\n",
        "    if len(i.split()) > 18 :\n",
        "        spec+=1\n",
        "    count+=1\n",
        "print(spec/count)"
      ]
    },
    {
      "cell_type": "code",
      "execution_count": 53,
      "metadata": {},
      "outputs": [],
      "source": [
        "train[\"len(token)>19\"] = [1 if len(i.split()) > 19  else 0 for i in train[\"sent\"]]\n",
        "test[\"len(token)>19\"] = [1 if len(i.split()) > 19 else 0 for i in test[\"sent\"]]"
      ]
    },
    {
      "cell_type": "code",
      "execution_count": 34,
      "metadata": {},
      "outputs": [
        {
          "name": "stdout",
          "output_type": "stream",
          "text": [
            "0.003790898301181556\n",
            "0.025792469819757947\n"
          ]
        }
      ],
      "source": [
        "# len(token) < 4\n",
        "spec = 0\n",
        "count=0\n",
        "for i in train[train['label'] == \"positive\"][\"sent\"]:\n",
        "    if len(i.split()) < 4:\n",
        "        spec+=1\n",
        "    count+=1\n",
        "print(spec/count)\n",
        "\n",
        "# for negative\n",
        "spec = 0\n",
        "count=0\n",
        "for i in train[train['label'] == \"negative\"][\"sent\"]:\n",
        "    if len(i.split()) < 4 :\n",
        "        spec+=1\n",
        "    count+=1\n",
        "print(spec/count)"
      ]
    },
    {
      "cell_type": "code",
      "execution_count": 35,
      "metadata": {},
      "outputs": [],
      "source": [
        "train[\"len(token)<4\"] = [1 if len(i.split()) < 4 else 0 for i in train[\"sent\"]]\n",
        "test[\"len(token)<4\"] = [1 if len(i.split()) < 4 else 0 for i in test[\"sent\"]]"
      ]
    },
    {
      "cell_type": "code",
      "execution_count": 36,
      "metadata": {},
      "outputs": [
        {
          "name": "stdout",
          "output_type": "stream",
          "text": [
            "0.03454323218366371\n",
            "0.3743876196144865\n"
          ]
        }
      ],
      "source": [
        "# number of cap\n",
        "spec = 0\n",
        "count=0\n",
        "for i in train[train['label'] == \"positive\"][\"sent\"]:\n",
        "    if len(re.findall('([A-Z])', i)) > 3:\n",
        "        spec+=1\n",
        "    count+=1\n",
        "print(spec/count)\n",
        "\n",
        "# for negative\n",
        "spec = 0\n",
        "count=0\n",
        "for i in train[train['label'] == \"negative\"][\"sent\"]:\n",
        "    if len(re.findall('([A-Z])', i)) > 3 :\n",
        "        spec+=1\n",
        "    count+=1\n",
        "print(spec/count)"
      ]
    },
    {
      "cell_type": "code",
      "execution_count": 38,
      "metadata": {},
      "outputs": [],
      "source": [
        "train[\"len(cap)>3\"] = [1 if len(re.findall('([A-Z])', i)) > 3 else 0 for i in train[\"sent\"]]\n",
        "test[\"len(cap)>3\"] = [1 if len(re.findall('([A-Z])', i)) > 3  else 0 for i in test[\"sent\"]]"
      ]
    },
    {
      "cell_type": "code",
      "execution_count": 39,
      "metadata": {},
      "outputs": [
        {
          "name": "stdout",
          "output_type": "stream",
          "text": [
            "0.03651839648544756\n",
            "0.020809486745112404\n"
          ]
        }
      ],
      "source": [
        "# exist will\n",
        "import re\n",
        "# for positive\n",
        "spec = 0\n",
        "count=0\n",
        "for i in train[train['label'] == \"positive\"][\"sent\"]:\n",
        "    r = re.findall('will', i)\n",
        "    if r:\n",
        "        spec+=1\n",
        "    count+=1\n",
        "print(spec/count)\n",
        "\n",
        "# for negative\n",
        "spec = 0\n",
        "count=0\n",
        "for i in train[train['label'] == \"negative\"][\"sent\"]:\n",
        "    r = re.findall('will', i)\n",
        "    if r:\n",
        "        spec+=1\n",
        "    count+=1       \n",
        "print(spec/count)"
      ]
    },
    {
      "cell_type": "code",
      "execution_count": 40,
      "metadata": {},
      "outputs": [],
      "source": [
        "train[\"exist_will\"] = [1 if re.findall('will', i) else 0 for i in train[\"sent\"]]\n",
        "test[\"exist_will\"] = [1 if re.findall('will', i) else 0 for i in test[\"sent\"]]"
      ]
    },
    {
      "cell_type": "code",
      "execution_count": 41,
      "metadata": {},
      "outputs": [
        {
          "name": "stdout",
          "output_type": "stream",
          "text": [
            "0.04156702272767533\n",
            "0.07595806052836408\n"
          ]
        }
      ],
      "source": [
        "# exist not\n",
        "import re\n",
        "# for positive\n",
        "spec = 0\n",
        "count=0\n",
        "for i in train[train['label'] == \"positive\"][\"sent\"]:\n",
        "    r = re.findall('not', i)\n",
        "    if r:\n",
        "        spec+=1\n",
        "    count+=1\n",
        "print(spec/count)\n",
        "\n",
        "# for negative\n",
        "spec = 0\n",
        "count=0\n",
        "for i in train[train['label'] == \"negative\"][\"sent\"]:\n",
        "    r = re.findall('not', i)\n",
        "    if r:\n",
        "        spec+=1\n",
        "    count+=1       \n",
        "print(spec/count)"
      ]
    },
    {
      "cell_type": "code",
      "execution_count": 50,
      "metadata": {},
      "outputs": [],
      "source": [
        "train[\"exist_not\"] = [1 if re.findall('not', i) else 0 for i in train[\"sent\"]]\n",
        "test[\"exist_not\"] = [1 if re.findall('not', i) else 0 for i in test[\"sent\"]]"
      ]
    },
    {
      "cell_type": "code",
      "execution_count": 57,
      "metadata": {},
      "outputs": [
        {
          "name": "stdout",
          "output_type": "stream",
          "text": [
            "0.02391454535792103\n",
            "0.21844237901195\n"
          ]
        }
      ],
      "source": [
        "# number of 0-9\n",
        "spec = 0\n",
        "count=0\n",
        "for i in train[train['label'] == \"positive\"][\"sent\"]:\n",
        "    if len(re.findall('([0-9])', i)) > 3:\n",
        "        spec+=1\n",
        "    count+=1\n",
        "print(spec/count)\n",
        "\n",
        "# for negative\n",
        "spec = 0\n",
        "count=0\n",
        "for i in train[train['label'] == \"negative\"][\"sent\"]:\n",
        "    if len(re.findall('([0-9])', i)) > 3 :\n",
        "        spec+=1\n",
        "    count+=1\n",
        "print(spec/count)"
      ]
    },
    {
      "cell_type": "code",
      "execution_count": 59,
      "metadata": {},
      "outputs": [],
      "source": [
        "train[\"len(digital)>3\"] = [1 if len(re.findall('([0-9])', i)) > 3 else 0 for i in train[\"sent\"]]\n",
        "test[\"len(digital)>3\"] = [1 if len(re.findall('([0-9])', i)) > 3  else 0 for i in test[\"sent\"]]"
      ]
    },
    {
      "cell_type": "code",
      "execution_count": 71,
      "metadata": {},
      "outputs": [],
      "source": [
        "month = ['January', 'February', \"March\", \"April\", \"May\", \"June\", \"July\", \"August\", \"September\", \"October\", \"November\", \"December\"]"
      ]
    },
    {
      "cell_type": "code",
      "execution_count": 84,
      "metadata": {},
      "outputs": [
        {
          "name": "stdout",
          "output_type": "stream",
          "text": [
            "0.006722644417282245\n",
            "0.08239091616684217\n"
          ]
        }
      ],
      "source": [
        "# exist month\n",
        "spec = 0\n",
        "count=0\n",
        "for i in train[train['label'] == \"positive\"][\"sent\"]:\n",
        "    if re.findall(r\"(?=(\"+'|'.join(month)+r\"))\", i):\n",
        "        spec += 1\n",
        "    count+=1\n",
        "print(spec/count)\n",
        "\n",
        "# for negative\n",
        "spec = 0\n",
        "count=0\n",
        "for i in train[train['label'] == \"negative\"][\"sent\"]:\n",
        "    if re.findall(r\"(?=(\"+'|'.join(month)+r\"))\", i):\n",
        "        spec+=1\n",
        "    count+=1\n",
        "print(spec/count)"
      ]
    },
    {
      "cell_type": "code",
      "execution_count": 82,
      "metadata": {},
      "outputs": [
        {
          "name": "stdout",
          "output_type": "stream",
          "text": [
            "[]\n"
          ]
        }
      ],
      "source": [
        "s = ['lydia', 'is', 'mimo']\n",
        "x = ' sticky poop'\n",
        "\n",
        "print(re.findall(r\"(?=(\"+'|'.join(s)+r\"))\", x))\n"
      ]
    },
    {
      "cell_type": "markdown",
      "metadata": {
        "id": "JjzzDXsV8rFp"
      },
      "source": [
        "## Train\n",
        "Now, it's time to evaluate whether the features just selected is useful to classify. We use [Bernoulli Naive Bayes model](https://scikit-learn.org/stable/modules/naive_bayes.html#bernoulli-naive-bayes) to train training data. "
      ]
    },
    {
      "cell_type": "code",
      "execution_count": 42,
      "metadata": {
        "id": "gGec8PDW8rFq"
      },
      "outputs": [],
      "source": [
        "from sklearn.naive_bayes import BernoulliNB\n",
        "bnb = BernoulliNB()"
      ]
    },
    {
      "cell_type": "markdown",
      "metadata": {
        "id": "IffCrLvf8rFq"
      },
      "source": [
        "<font color=\"red\">**[ TODO ]**</font> Please adjust the `selected_features` list and train the model.\n",
        "\n",
        "***Don't*** use other model in this assignment."
      ]
    },
    {
      "cell_type": "code",
      "execution_count": 102,
      "metadata": {
        "id": "UBazhh0x8rFq"
      },
      "outputs": [],
      "source": [
        "selected_features = [\"more than three punc\", \"length > 110\", \"exist_left_bracket\",  \"len(token)>19\", \n",
        "                    \"len(token)<4\", \"len(cap)>3\", \"len(digital)>3\",\"exist_month\", \n",
        "                    \"exist_will\", \"exist_not\"]\n"
      ]
    },
    {
      "cell_type": "code",
      "execution_count": 103,
      "metadata": {
        "id": "FWeeyHj38rFq"
      },
      "outputs": [],
      "source": [
        "y_pred = bnb.fit(train[selected_features], train['label']).predict(test[selected_features])"
      ]
    },
    {
      "cell_type": "markdown",
      "metadata": {
        "id": "43FpNagS8rFr"
      },
      "source": [
        "## Test\n",
        "Test the model and get the accuracy of the prediction on testing data. \n",
        "\n",
        "There're four baselines for this task:\n",
        "```\n",
        "1. simple baseline: 0.65\n",
        "2. medium baseline: 0.72\n",
        "3. strong baseline: 0.8\n",
        "4. boss baseline: 0.85\n",
        "```\n",
        "The more the baseline you pass, the more higher the grade you can get.\n",
        "\n",
        "*hint: If the result isn't ideal, you can print the wrong prediction data and re-observe but only focus on wrong data to extract other features."
      ]
    },
    {
      "cell_type": "code",
      "execution_count": 104,
      "metadata": {
        "id": "FYOHrFtk8rFr",
        "outputId": "39a87798-7645-4a14-a98a-856dedc5c8ef"
      },
      "outputs": [
        {
          "name": "stdout",
          "output_type": "stream",
          "text": [
            "0.7779816513761468\n"
          ]
        }
      ],
      "source": [
        "print((test['label'] == y_pred).sum()/len(test))"
      ]
    },
    {
      "cell_type": "code",
      "execution_count": 97,
      "metadata": {},
      "outputs": [
        {
          "data": {
            "text/plain": [
              "0     I've just spotted Mark - he's over there, near...\n",
              "10    Andrew spends all his spare time playing with ...\n",
              "15    They have a standing order every January to su...\n",
              "Name: sent, dtype: object"
            ]
          },
          "execution_count": 97,
          "metadata": {},
          "output_type": "execute_result"
        }
      ],
      "source": [
        "wrong_pred = test[test['label'] != y_pred]\n",
        "FN = wrong_pred[wrong_pred['label'] == 'positive']\n",
        "FP = wrong_pred[wrong_pred['label'] == 'negative']\n",
        "\n",
        "FN.iloc[0:3]['sent']"
      ]
    },
    {
      "cell_type": "code",
      "execution_count": 98,
      "metadata": {},
      "outputs": [
        {
          "data": {
            "text/html": [
              "<div>\n",
              "<style scoped>\n",
              "    .dataframe tbody tr th:only-of-type {\n",
              "        vertical-align: middle;\n",
              "    }\n",
              "\n",
              "    .dataframe tbody tr th {\n",
              "        vertical-align: top;\n",
              "    }\n",
              "\n",
              "    .dataframe thead th {\n",
              "        text-align: right;\n",
              "    }\n",
              "</style>\n",
              "<table border=\"1\" class=\"dataframe\">\n",
              "  <thead>\n",
              "    <tr style=\"text-align: right;\">\n",
              "      <th></th>\n",
              "      <th>sent</th>\n",
              "      <th>label</th>\n",
              "      <th>more than three punc</th>\n",
              "      <th>length &gt; 110</th>\n",
              "      <th>exist_left_bracket</th>\n",
              "      <th>len(token)&gt;18</th>\n",
              "      <th>len(token)&lt;4</th>\n",
              "      <th>len(cap)&gt;3</th>\n",
              "      <th>exist_will</th>\n",
              "      <th>exist_notl</th>\n",
              "      <th>exist_not</th>\n",
              "      <th>len(token)&gt;19</th>\n",
              "      <th>len(digtali)&gt;3</th>\n",
              "      <th>len(digital)&gt;3</th>\n",
              "      <th>exist_month</th>\n",
              "    </tr>\n",
              "  </thead>\n",
              "  <tbody>\n",
              "    <tr>\n",
              "      <th>16410</th>\n",
              "      <td>Really that's all I had to say.</td>\n",
              "      <td>negative</td>\n",
              "      <td>0</td>\n",
              "      <td>0</td>\n",
              "      <td>0</td>\n",
              "      <td>0</td>\n",
              "      <td>0</td>\n",
              "      <td>0</td>\n",
              "      <td>0</td>\n",
              "      <td>0</td>\n",
              "      <td>0</td>\n",
              "      <td>0</td>\n",
              "      <td>0</td>\n",
              "      <td>0</td>\n",
              "      <td>0</td>\n",
              "    </tr>\n",
              "    <tr>\n",
              "      <th>16413</th>\n",
              "      <td>This will put a signature containing your user...</td>\n",
              "      <td>negative</td>\n",
              "      <td>0</td>\n",
              "      <td>0</td>\n",
              "      <td>0</td>\n",
              "      <td>1</td>\n",
              "      <td>0</td>\n",
              "      <td>0</td>\n",
              "      <td>1</td>\n",
              "      <td>0</td>\n",
              "      <td>0</td>\n",
              "      <td>0</td>\n",
              "      <td>0</td>\n",
              "      <td>0</td>\n",
              "      <td>0</td>\n",
              "    </tr>\n",
              "    <tr>\n",
              "      <th>16415</th>\n",
              "      <td>I know I did.</td>\n",
              "      <td>negative</td>\n",
              "      <td>0</td>\n",
              "      <td>0</td>\n",
              "      <td>0</td>\n",
              "      <td>0</td>\n",
              "      <td>0</td>\n",
              "      <td>0</td>\n",
              "      <td>0</td>\n",
              "      <td>0</td>\n",
              "      <td>0</td>\n",
              "      <td>0</td>\n",
              "      <td>0</td>\n",
              "      <td>0</td>\n",
              "      <td>0</td>\n",
              "    </tr>\n",
              "    <tr>\n",
              "      <th>16418</th>\n",
              "      <td>Chinese mathematicians were the first to use n...</td>\n",
              "      <td>negative</td>\n",
              "      <td>0</td>\n",
              "      <td>0</td>\n",
              "      <td>0</td>\n",
              "      <td>0</td>\n",
              "      <td>0</td>\n",
              "      <td>0</td>\n",
              "      <td>0</td>\n",
              "      <td>0</td>\n",
              "      <td>0</td>\n",
              "      <td>0</td>\n",
              "      <td>0</td>\n",
              "      <td>0</td>\n",
              "      <td>0</td>\n",
              "    </tr>\n",
              "    <tr>\n",
              "      <th>16423</th>\n",
              "      <td>I've deleted several because they weren't simp...</td>\n",
              "      <td>negative</td>\n",
              "      <td>0</td>\n",
              "      <td>0</td>\n",
              "      <td>0</td>\n",
              "      <td>0</td>\n",
              "      <td>0</td>\n",
              "      <td>0</td>\n",
              "      <td>0</td>\n",
              "      <td>0</td>\n",
              "      <td>0</td>\n",
              "      <td>0</td>\n",
              "      <td>0</td>\n",
              "      <td>0</td>\n",
              "      <td>0</td>\n",
              "    </tr>\n",
              "    <tr>\n",
              "      <th>...</th>\n",
              "      <td>...</td>\n",
              "      <td>...</td>\n",
              "      <td>...</td>\n",
              "      <td>...</td>\n",
              "      <td>...</td>\n",
              "      <td>...</td>\n",
              "      <td>...</td>\n",
              "      <td>...</td>\n",
              "      <td>...</td>\n",
              "      <td>...</td>\n",
              "      <td>...</td>\n",
              "      <td>...</td>\n",
              "      <td>...</td>\n",
              "      <td>...</td>\n",
              "      <td>...</td>\n",
              "    </tr>\n",
              "    <tr>\n",
              "      <th>30511</th>\n",
              "      <td>It is located at a ford on the Castletown River.</td>\n",
              "      <td>negative</td>\n",
              "      <td>0</td>\n",
              "      <td>0</td>\n",
              "      <td>0</td>\n",
              "      <td>0</td>\n",
              "      <td>0</td>\n",
              "      <td>0</td>\n",
              "      <td>0</td>\n",
              "      <td>0</td>\n",
              "      <td>0</td>\n",
              "      <td>0</td>\n",
              "      <td>0</td>\n",
              "      <td>0</td>\n",
              "      <td>0</td>\n",
              "    </tr>\n",
              "    <tr>\n",
              "      <th>30512</th>\n",
              "      <td>The brain reacts by making the sympathetic ner...</td>\n",
              "      <td>negative</td>\n",
              "      <td>0</td>\n",
              "      <td>0</td>\n",
              "      <td>0</td>\n",
              "      <td>0</td>\n",
              "      <td>0</td>\n",
              "      <td>0</td>\n",
              "      <td>0</td>\n",
              "      <td>0</td>\n",
              "      <td>0</td>\n",
              "      <td>0</td>\n",
              "      <td>0</td>\n",
              "      <td>0</td>\n",
              "      <td>0</td>\n",
              "    </tr>\n",
              "    <tr>\n",
              "      <th>30514</th>\n",
              "      <td>With Sandstorm at his side he foes on a perilo...</td>\n",
              "      <td>negative</td>\n",
              "      <td>0</td>\n",
              "      <td>0</td>\n",
              "      <td>0</td>\n",
              "      <td>0</td>\n",
              "      <td>0</td>\n",
              "      <td>0</td>\n",
              "      <td>0</td>\n",
              "      <td>0</td>\n",
              "      <td>0</td>\n",
              "      <td>0</td>\n",
              "      <td>0</td>\n",
              "      <td>0</td>\n",
              "      <td>0</td>\n",
              "    </tr>\n",
              "    <tr>\n",
              "      <th>30518</th>\n",
              "      <td>Any regular editor can take out timetables fro...</td>\n",
              "      <td>negative</td>\n",
              "      <td>0</td>\n",
              "      <td>0</td>\n",
              "      <td>0</td>\n",
              "      <td>0</td>\n",
              "      <td>0</td>\n",
              "      <td>0</td>\n",
              "      <td>0</td>\n",
              "      <td>0</td>\n",
              "      <td>0</td>\n",
              "      <td>0</td>\n",
              "      <td>0</td>\n",
              "      <td>0</td>\n",
              "      <td>0</td>\n",
              "    </tr>\n",
              "    <tr>\n",
              "      <th>30519</th>\n",
              "      <td>IF you are not, you just need to turn them on ...</td>\n",
              "      <td>negative</td>\n",
              "      <td>0</td>\n",
              "      <td>0</td>\n",
              "      <td>0</td>\n",
              "      <td>0</td>\n",
              "      <td>0</td>\n",
              "      <td>0</td>\n",
              "      <td>0</td>\n",
              "      <td>1</td>\n",
              "      <td>1</td>\n",
              "      <td>0</td>\n",
              "      <td>0</td>\n",
              "      <td>0</td>\n",
              "      <td>0</td>\n",
              "    </tr>\n",
              "  </tbody>\n",
              "</table>\n",
              "<p>4669 rows × 15 columns</p>\n",
              "</div>"
            ],
            "text/plain": [
              "                                                    sent     label  \\\n",
              "16410                    Really that's all I had to say.  negative   \n",
              "16413  This will put a signature containing your user...  negative   \n",
              "16415                                      I know I did.  negative   \n",
              "16418  Chinese mathematicians were the first to use n...  negative   \n",
              "16423  I've deleted several because they weren't simp...  negative   \n",
              "...                                                  ...       ...   \n",
              "30511   It is located at a ford on the Castletown River.  negative   \n",
              "30512  The brain reacts by making the sympathetic ner...  negative   \n",
              "30514  With Sandstorm at his side he foes on a perilo...  negative   \n",
              "30518  Any regular editor can take out timetables fro...  negative   \n",
              "30519  IF you are not, you just need to turn them on ...  negative   \n",
              "\n",
              "       more than three punc  length > 110  exist_left_bracket  len(token)>18  \\\n",
              "16410                     0             0                   0              0   \n",
              "16413                     0             0                   0              1   \n",
              "16415                     0             0                   0              0   \n",
              "16418                     0             0                   0              0   \n",
              "16423                     0             0                   0              0   \n",
              "...                     ...           ...                 ...            ...   \n",
              "30511                     0             0                   0              0   \n",
              "30512                     0             0                   0              0   \n",
              "30514                     0             0                   0              0   \n",
              "30518                     0             0                   0              0   \n",
              "30519                     0             0                   0              0   \n",
              "\n",
              "       len(token)<4  len(cap)>3  exist_will  exist_notl  exist_not  \\\n",
              "16410             0           0           0           0          0   \n",
              "16413             0           0           1           0          0   \n",
              "16415             0           0           0           0          0   \n",
              "16418             0           0           0           0          0   \n",
              "16423             0           0           0           0          0   \n",
              "...             ...         ...         ...         ...        ...   \n",
              "30511             0           0           0           0          0   \n",
              "30512             0           0           0           0          0   \n",
              "30514             0           0           0           0          0   \n",
              "30518             0           0           0           0          0   \n",
              "30519             0           0           0           1          1   \n",
              "\n",
              "       len(token)>19  len(digtali)>3  len(digital)>3  exist_month  \n",
              "16410              0               0               0            0  \n",
              "16413              0               0               0            0  \n",
              "16415              0               0               0            0  \n",
              "16418              0               0               0            0  \n",
              "16423              0               0               0            0  \n",
              "...              ...             ...             ...          ...  \n",
              "30511              0               0               0            0  \n",
              "30512              0               0               0            0  \n",
              "30514              0               0               0            0  \n",
              "30518              0               0               0            0  \n",
              "30519              0               0               0            0  \n",
              "\n",
              "[4669 rows x 15 columns]"
            ]
          },
          "execution_count": 98,
          "metadata": {},
          "output_type": "execute_result"
        }
      ],
      "source": [
        "FP"
      ]
    },
    {
      "cell_type": "markdown",
      "metadata": {
        "id": "pLkF-92v8rFr"
      },
      "source": [
        "## TA's Notes\n",
        "\n",
        "If you complete the Assignment, please use [this link](https://docs.google.com/spreadsheets/d/1QGeYl5dsD9sFO9SYg4DIKk-xr-yGjRDOOLKZqCLDv2E/edit#gid=1031097651) to reserve demo time.  \n",
        "The score is only given after TAs review your implementation, so <u>**make sure you make a appointment with a TA before you miss the deadline**</u> .  <br>After demo, please upload your assignment to eeclass. You just need to hand in this ipynb file and rename it as XXXXXXXXX(Your student ID).ipynb.\n",
        "<br>Note that **late submission will not be allowed**."
      ]
    },
    {
      "cell_type": "markdown",
      "metadata": {},
      "source": []
    }
  ],
  "metadata": {
    "colab": {
      "collapsed_sections": [],
      "name": "Week13_example_sentences_classification.ipynb",
      "provenance": []
    },
    "kernelspec": {
      "display_name": "Python 3",
      "language": "python",
      "name": "python3"
    },
    "language_info": {
      "codemirror_mode": {
        "name": "ipython",
        "version": 3
      },
      "file_extension": ".py",
      "mimetype": "text/x-python",
      "name": "python",
      "nbconvert_exporter": "python",
      "pygments_lexer": "ipython3",
      "version": "3.6.13"
    }
  },
  "nbformat": 4,
  "nbformat_minor": 0
}
