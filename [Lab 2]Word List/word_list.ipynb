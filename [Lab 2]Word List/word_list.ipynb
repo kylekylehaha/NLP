{
 "cells": [
  {
   "cell_type": "markdown",
   "source": [
    "# Assignment02: Find Academic Keyword List\n",
    "Academic Keywords are the words we seldom use ordinarily, but often use in Academic articles. \"This shows\" and \"in conclusion\" are examples of Academic Keywords. This assignment want you to use Rank Ratio and compare two dataset to find Academic Keyword List(AKL).\n",
    "<br><br>\n",
    "One dataset is taken from [`British Academic Written English Corpus(BAWE)`](https://www.coventry.ac.uk/research/research-directories/current-projects/2015/british-academic-written-english-corpus-bawe/), which collect a record of proficient university-level student writing. Hence, BAWE can be seen as Academic data. Another one is called [`Web1T`](https://catalog.ldc.upenn.edu/LDC2006T13), which is presented by Google. Web1T colloct 1 trillion words of English Web, so we can treat it as the representative of common words. "
   ],
   "metadata": {}
  },
  {
   "cell_type": "markdown",
   "source": [
    "## N-gram counting\n",
    "This part is almost same as what you need to do in Assignment01. The way to find N-gram is the same as Assignment01. However, tokenization and calculating frequency are a little different. The rules of tokenization in this Assignment are:\n",
    " 1. Ignore case (e.g., \"The\" is the same as \"the\")\n",
    " 2. Split by white spaces <s>and punctuations</s>\n",
    " 3. Ignore all punctuation\n",
    "<br><br>\n",
    "\n",
    "As for calculating frequency, we want you calculating <u>document frequency</u> in this Assignment. <br>What is document frequency? \n",
    "<br>Article 1: \n",
    "> We all know that water masses in the ocean are thought to be transferred by the wind. ...\n",
    "\n",
    "Althought there are at least 2 \"the\" in Article 1, the document frequency of \"the\" is still 1 in this article.<br> No mater how many times does \"the\" show up in Article 1, the document frquency of it is always 1.<br>\n",
    "Article 2: \n",
    "> The film Dantes Peak is about a dormant volcano that suddenly erupts and threatens the nearby town. ...\n",
    "\n",
    "Considering the Article 1 and 2, the document frequency of \"the\" is 2 now.<br>\n",
    "Document frequency can reduce the influence of terms, like \"NLP\".\n",
    "<br><br>\n",
    "<span style=\"color: red\">[ TODO ]</span> Try to modify the functions coded in Assignment01 to <u>calculate document frequencies of all unigram.</u>.\n",
    "\n",
    "Google has calculated the frequency of N-gram, so you only need to do it on BAWE."
   ],
   "metadata": {}
  },
  {
   "cell_type": "code",
   "execution_count": 2,
   "source": [
    "def tokenize(text):\n",
    "    # [ TODO ] transform to lower case\n",
    "    text = text.lower()\n",
    "    # [ TODO ] seperate the words\n",
    "    tokens = re.findall(r\"[\\w']+\",text)\n",
    "    #tokens = text.split()\n",
    "    return tokens"
   ],
   "outputs": [],
   "metadata": {}
  },
  {
   "cell_type": "code",
   "execution_count": 5,
   "source": [
    "# test for tokenize\n",
    "txt = \"Hello!! I don't like you.\"\n",
    "tokens = tokenize(txt)\n",
    "print(tokens)"
   ],
   "outputs": [
    {
     "output_type": "stream",
     "name": "stdout",
     "text": [
      "['hello', 'i', \"don't\", 'like', 'you']\n"
     ]
    }
   ],
   "metadata": {}
  },
  {
   "cell_type": "code",
   "execution_count": 6,
   "source": [
    "def calculate_frequency(tokens):\n",
    "    frequency = Counter(tokens)\n",
    "    \"\"\"\n",
    "    Sample output: \n",
    "    {\n",
    "        'the': 79809, \n",
    "        'project': 288,\n",
    "        ...\n",
    "    }\n",
    "    \"\"\"\n",
    "    return frequency #return type: collections.Counter"
   ],
   "outputs": [],
   "metadata": {}
  },
  {
   "cell_type": "code",
   "execution_count": 7,
   "source": [
    "def get_ngram(tokens, n=2):\n",
    "    result = []\n",
    "    tokens = ngrams(tokens, n) # type(tokens) = zip\n",
    "    tokens_list = list((tokens)) # 將 zip 轉成 list, return list of tuple\n",
    "    for sublist in tokens_list:\n",
    "        result.append(' '.join(sublist)) #combine two tuple into one and then insert into list\n",
    "    return result"
   ],
   "outputs": [],
   "metadata": {}
  },
  {
   "cell_type": "code",
   "execution_count": 4,
   "source": [
    "import os\n",
    "import re\n",
    "from collections import Counter\n",
    "import nltk\n",
    "from nltk import ngrams"
   ],
   "outputs": [],
   "metadata": {}
  },
  {
   "cell_type": "code",
   "execution_count": 9,
   "source": [
    "file_path = os.path.join('data', 'BAWE.txt')\n",
    "#BAWE_unigram = []\n",
    "BAWE_unigram = Counter()\n",
    "#### [ TODO ] calculate document frequency of unigram in BAWE\n",
    "with open(file_path, 'r') as f:\n",
    "    for text in f.readlines(): #readline: 一次讀一行\n",
    "        tokens = tokenize(text) #tokens 為 list\n",
    "        counter = calculate_frequency(tokens)\n",
    "        for i in counter:\n",
    "            if i in BAWE_unigram:\n",
    "                BAWE_unigram[i] += 1\n",
    "            else:\n",
    "                BAWE_unigram[i] = 1"
   ],
   "outputs": [],
   "metadata": {}
  },
  {
   "cell_type": "code",
   "execution_count": 10,
   "source": [
    "# Read Web1T Data\n",
    "file_path = os.path.join('data', 'Web1T_unigram.txt')\n",
    "Web1T_unigram_counter = {}\n",
    "with open(file_path,'r') as f:\n",
    "    for line in f.readlines():\n",
    "        line=line.rstrip(\"\\n\").split(\"\\t\")\n",
    "        Web1T_unigram_counter[line[0]] = int(line[1])\n",
    "\n",
    "Web1T_unigram_counter = Counter(Web1T_unigram_counter) # 將 dict 轉成 Counter, 這樣會自動依 value 由大至小排序\n",
    "#print(Web1T_unigram_counter.most_common(10))"
   ],
   "outputs": [],
   "metadata": {}
  },
  {
   "cell_type": "markdown",
   "source": [
    "## Rank\n",
    "Rank unigrms by their frequencies. The higher the frequency, the higher the rank.(The most frequent unigram ranks 1.)<br>\n",
    "<span style=\"color: red\">[ TODO ]</span> <u>Rank unigrams for Web1T and BAWE.</u>."
   ],
   "metadata": {}
  },
  {
   "cell_type": "code",
   "execution_count": 11,
   "source": [
    "Web1T_unigram_Rank = {}\n",
    "#### [ TODO ] Rank unigrams for Web1T\n",
    "Web1T_unigram_Rank = dict(Web1T_unigram_counter)\n",
    "i = 1\n",
    "for key in Web1T_unigram_Rank:\n",
    "    Web1T_unigram_Rank[key] = i\n",
    "    i += 1   \n",
    "#j = 0\n",
    "#for key, value in Web1T_unigram_Rank.items():\n",
    "#    if j < 10:\n",
    "#        print(key, value)\n",
    "#        j += 1"
   ],
   "outputs": [],
   "metadata": {}
  },
  {
   "cell_type": "code",
   "execution_count": 12,
   "source": [
    "BAWE_unigram_Rank = {}\n",
    "#### [ TODO ] Rank unigrams for BAWE\n",
    "\n",
    "BAWE_unigram_Rank = dict(BAWE_unigram.most_common()) \n",
    "# 直接 print Counter 會依照 value 大小輸出，但 Counter 實際儲存方式不是依 value 大小儲存。\n",
    "#test = dict(BAWE_unigram)\n",
    "#print(test)\n",
    "#print(BAWE_unigram_Rank)\n",
    "i = 1\n",
    "for key in BAWE_unigram_Rank:\n",
    "    BAWE_unigram_Rank[key] = i\n",
    "    i += 1\n",
    "#j = 0\n",
    "#for key, value in BAWE_unigram_Rank.items():\n",
    "#    if j < 10:\n",
    "#        print(key, value)\n",
    "#        j += 1"
   ],
   "outputs": [],
   "metadata": {}
  },
  {
   "cell_type": "markdown",
   "source": [
    "## Calculate Rank Ratio\n",
    "In this step, you need to map the same unigram in two dataset, and caalculate the Rank Ratio of unigram in BAWE.  <br>Please follow the formula for calculating Rank Ratio:<br> \n",
    "<br>\n",
    "<img src=\"https://imgur.com/vmK7Q1K.jpg\" width=30%><br>\n",
    "If the unigram doesn't appear in Web1T, the rank of it is treated as 1.\n",
    "\n",
    "<span style=\"color: red\">[ TODO ]</span> Please calculate all rank ratios of unigrams in BAWE."
   ],
   "metadata": {}
  },
  {
   "cell_type": "code",
   "execution_count": 13,
   "source": [
    "#### [TODO] calculate all rank ratios of unigrams in BAWE\n",
    "Rank_Ration = {}\n",
    "for key in BAWE_unigram_Rank:\n",
    "    rank_of_BAWE = BAWE_unigram_Rank.get(key)\n",
    "    rank_of_Web1T = Web1T_unigram_Rank.get(key, 1)\n",
    "    Rank_Ration[key] = round(rank_of_Web1T/rank_of_BAWE, 4)"
   ],
   "outputs": [],
   "metadata": {}
  },
  {
   "cell_type": "markdown",
   "source": [
    "## sort the result\n",
    "<span style=\"color: red\">[ TODO ]</span> Please show top 30 uigrams in Rank Ratio and the value of their Rank Ratio in this format: \n",
    "<br>\n",
    "<img src=\"https://imgur.com/AEkiCRr.jpg\" width=50%>"
   ],
   "metadata": {}
  },
  {
   "cell_type": "code",
   "execution_count": 14,
   "source": [
    "#### [ TODO ] souw the result\n",
    "Rank_Ration_counter = Counter(Rank_Ration)\n",
    "s1 = \"rank\"\n",
    "s2 = \"unigram\"\n",
    "s3 = \"Rank Ratio\"\n",
    "print('{:10} {:20}{:<20}'.format(s1,s2,s3))\n",
    "top30 = Rank_Ration_counter.most_common(30)\n",
    "r = 1\n",
    "for keys, value in top30:\n",
    "    print('{:<10} {:20}{:<20}'.format(r,keys,value))\n",
    "    r += 1"
   ],
   "outputs": [
    {
     "output_type": "stream",
     "name": "stdout",
     "text": [
      "rank       unigram             Rank Ratio          \n",
      "1          cannot              585.6868            \n",
      "2          firstly             27.7288             \n",
      "3          conclusion          26.2143             \n",
      "4          trudgill            21.7762             \n",
      "5          gleitman            21.0141             \n",
      "6          sibilance           20.0584             \n",
      "7          generalisability    19.2729             \n",
      "8          therefore           19.1618             \n",
      "9          cyanosis            18.4351             \n",
      "10         legitimising        18.1556             \n",
      "11         foregrounded        17.9653             \n",
      "12         plosives            17.9641             \n",
      "13         assonance           17.2115             \n",
      "14         emphasises          16.7814             \n",
      "15         debateable          16.7603             \n",
      "16         stoppered           16.5568             \n",
      "17         lymphadenopathy     16.3373             \n",
      "18         craib               16.3334             \n",
      "19         hypothesise         16.3247             \n",
      "20         pasteurised         16.2247             \n",
      "21         colonisers          16.163              \n",
      "22         hypothesised        16.0129             \n",
      "23         pyrexia             15.9986             \n",
      "24         behaviourally       15.9059             \n",
      "25         pipetted            15.8923             \n",
      "26         dyspnoea            15.8018             \n",
      "27         behaviourist        15.7932             \n",
      "28         quantised           15.0212             \n",
      "29         jarque              14.9488             \n",
      "30         homogenised         14.7836             \n"
     ]
    }
   ],
   "metadata": {}
  },
  {
   "cell_type": "markdown",
   "source": [
    "## for Bigrams\n",
    "<span style=\"color: red\">[ TODO ]</span> Do the Same Thing for Bigrams"
   ],
   "metadata": {}
  },
  {
   "cell_type": "code",
   "execution_count": 15,
   "source": [
    "#### [TODO]\n",
    "# Read Web1T Data\n",
    "file_path = os.path.join('data', 'Web1T_bigram.txt')\n",
    "Web1T_bigram_counter = {}\n",
    "with open(file_path,'r') as f:\n",
    "    for line in f.readlines():\n",
    "        line=line.rstrip(\"\\n\").split(\"\\t\")\n",
    "        Web1T_bigram_counter[line[0]] = int(line[1])\n",
    "\n",
    "Web1T_bigram_counter = Counter(Web1T_bigram_counter) # 將 dict 轉成 Counter, 這樣會自動依 value 由大至小排序"
   ],
   "outputs": [],
   "metadata": {}
  },
  {
   "cell_type": "code",
   "execution_count": 16,
   "source": [
    "file_path = os.path.join('data', 'BAWE.txt')\n",
    "BAWE_bigram = Counter()\n",
    "#### [ TODO ] calculate document frequency of unigram in BAWE\n",
    "with open(file_path, 'r') as f:\n",
    "    for text in f.readlines(): #readline: 一次讀一行\n",
    "        tokens = tokenize(text) #tokens 為 list\n",
    "        bigram = get_ngram(tokens, 2)\n",
    "        bigram_counter = calculate_frequency(bigram)\n",
    "        for i in bigram_counter:\n",
    "            if i in BAWE_bigram:\n",
    "                BAWE_bigram[i] += 1\n",
    "            else:\n",
    "                BAWE_bigram[i] = 1"
   ],
   "outputs": [],
   "metadata": {}
  },
  {
   "cell_type": "code",
   "execution_count": 17,
   "source": [
    "Web1T_bigram_Rank = {}\n",
    "#### [ TODO ] Rank bigrams for Web1T\n",
    "Web1T_bigram_Rank = dict(Web1T_bigram_counter.most_common())\n",
    "i = 1\n",
    "for key in Web1T_bigram_Rank:\n",
    "    Web1T_bigram_Rank[key] = i\n",
    "    i += 1"
   ],
   "outputs": [],
   "metadata": {}
  },
  {
   "cell_type": "code",
   "execution_count": 18,
   "source": [
    "BAWE_bigram_Rank = {}\n",
    "#### [ TODO ] Rank unigrams for BAWE\n",
    "BAWE_bigram_Rank = dict(BAWE_bigram.most_common())\n",
    "i = 1\n",
    "for key in BAWE_bigram_Rank:\n",
    "    BAWE_bigram_Rank[key] = int(i)\n",
    "    i += 1"
   ],
   "outputs": [],
   "metadata": {}
  },
  {
   "cell_type": "code",
   "execution_count": 19,
   "source": [
    "#### [TODO] calculate all rank ratios of bigrams in BAWE\n",
    "Rank_Ration_bigram = {}\n",
    "for key in BAWE_bigram_Rank:\n",
    "    rank_of_BAWE = BAWE_bigram_Rank.get(key)\n",
    "    rank_of_Web1T = Web1T_bigram_Rank.get(key, 1)\n",
    "    Rank_Ration_bigram[key] = round(rank_of_Web1T/rank_of_BAWE, 4)"
   ],
   "outputs": [],
   "metadata": {}
  },
  {
   "cell_type": "code",
   "execution_count": 20,
   "source": [
    "Rank_Ration_bigram_counter = Counter(Rank_Ration_bigram)\n",
    "s1 = \"rank\"\n",
    "s2 = \"unigram\"\n",
    "s3 = \"Rank Ratio\"\n",
    "print('{:10} {:20}{:<20}'.format(s1,s2,s3))\n",
    "top30 = Rank_Ration_bigram_counter.most_common(30)\n",
    "r = 1\n",
    "for keys, value in top30:\n",
    "    print('{:<10} {:20}{:<20}'.format(r,keys,value))\n",
    "    r += 1"
   ],
   "outputs": [
    {
     "output_type": "stream",
     "name": "stdout",
     "text": [
      "rank       unigram             Rank Ratio          \n",
      "1          in conclusion       507.8455            \n",
      "2          however this        418.7165            \n",
      "3          however the         372.5714            \n",
      "4          however in          284.0701            \n",
      "5          however it          248.514             \n",
      "6          this essay          228.844             \n",
      "7          however there       218.7548            \n",
      "8          the british         182.9861            \n",
      "9          the european        154.6835            \n",
      "10         this suggests       138.5583            \n",
      "11         this shows          106.6371            \n",
      "12         see appendix        92.2815             \n",
      "13         analysis the        90.3504             \n",
      "14         therefore it        89.8579             \n",
      "15         however a           89.1735             \n",
      "16         therefore the       86.0144             \n",
      "17         method the          76.2489             \n",
      "18         conclusion in       64.551              \n",
      "19         however he          61.932              \n",
      "20         the united          61.0985             \n",
      "21         the uk              60.3915             \n",
      "22         however to          59.88               \n",
      "23         c the               59.0151             \n",
      "24         system the          58.8659             \n",
      "25         therefore this      58.6869             \n",
      "26         despite this        57.1545             \n",
      "27         i shall             57.091              \n",
      "28         example it          57.0472             \n",
      "29         in england          55.97               \n",
      "30         in appendix         55.6402             \n"
     ]
    }
   ],
   "metadata": {}
  },
  {
   "cell_type": "markdown",
   "source": [
    "## TA's Notes\n",
    "\n",
    "If you complete the Assignment, please use [this link](https://docs.google.com/spreadsheets/d/1QGeYl5dsD9sFO9SYg4DIKk-xr-yGjRDOOLKZqCLDv2E/edit#gid=40492256) to reserve demo time.  \n",
    "The score is only given after TAs review your implementation, so <u>**make sure you make a appointment with a TA before you miss the deadline**</u> .  <br>After demo, please upload your assignment to eeclass. You just need to hand in this ipynb file and rename it as XXXXXXXXX(Your student ID).ipynb.\n",
    "<br>Note that **late submission will not be allowed**.  "
   ],
   "metadata": {}
  }
 ],
 "metadata": {
  "kernelspec": {
   "name": "python3",
   "display_name": "Python 3.8.8 64-bit ('base': conda)"
  },
  "language_info": {
   "codemirror_mode": {
    "name": "ipython",
    "version": 3
   },
   "file_extension": ".py",
   "mimetype": "text/x-python",
   "name": "python",
   "nbconvert_exporter": "python",
   "pygments_lexer": "ipython3",
   "version": "3.8.8"
  },
  "interpreter": {
   "hash": "7a3f7ff1f9e2b5bd8bda200499471145fba8f8ec5fdbba349d5ee7fc0fc58939"
  }
 },
 "nbformat": 4,
 "nbformat_minor": 4
}